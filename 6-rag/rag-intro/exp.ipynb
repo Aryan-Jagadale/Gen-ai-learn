{
 "cells": [
  {
   "cell_type": "code",
   "execution_count": 1,
   "metadata": {},
   "outputs": [
    {
     "name": "stderr",
     "output_type": "stream",
     "text": [
      "USER_AGENT environment variable not set, consider setting it to identify your requests.\n"
     ]
    }
   ],
   "source": [
    "from langchain_community.document_loaders import WebBaseLoader\n",
    "from langchain.text_splitter import RecursiveCharacterTextSplitter\n",
    "import nest_asyncio\n",
    "import asyncio"
   ]
  },
  {
   "cell_type": "code",
   "execution_count": 2,
   "metadata": {},
   "outputs": [],
   "source": [
    "nest_asyncio.apply()"
   ]
  },
  {
   "cell_type": "code",
   "execution_count": 3,
   "metadata": {},
   "outputs": [],
   "source": [
    "urls = [\n",
    "    'https://www.victoriaonmove.com.au/local-removalists.html',\n",
    "    'https://victoriaonmove.com.au/index.html',\n",
    "    'https://victoriaonmove.com.au/contact.html'\n",
    "]"
   ]
  },
  {
   "cell_type": "code",
   "execution_count": 4,
   "metadata": {},
   "outputs": [],
   "source": [
    "async def scrape_urls(urls):\n",
    "\n",
    "    loader = WebBaseLoader(urls)\n",
    "    \n",
    "    try:\n",
    "        # Load the documents\n",
    "        documents =  loader.aload()\n",
    "        return documents\n",
    "        \n",
    "    except Exception as e:\n",
    "        print(f\"Error occurred while scraping: {str(e)}\")\n",
    "        return None"
   ]
  },
  {
   "cell_type": "code",
   "execution_count": 6,
   "metadata": {},
   "outputs": [
    {
     "name": "stderr",
     "output_type": "stream",
     "text": [
      "Fetching pages: 100%|##########| 3/3 [00:01<00:00,  1.84it/s]\n"
     ]
    }
   ],
   "source": [
    "results = asyncio.run(scrape_urls(urls))"
   ]
  },
  {
   "cell_type": "code",
   "execution_count": 7,
   "metadata": {},
   "outputs": [
    {
     "data": {
      "text/plain": [
       "[Document(metadata={'source': 'https://www.victoriaonmove.com.au/local-removalists.html', 'title': 'VICTORIA ON MOVE', 'description': 'Victoria on Move provides the best moving services', 'language': 'en'}, page_content='\\n\\n\\n\\nVICTORIA ON MOVE\\n\\n\\n\\n\\nLocal Removalists\\n\\n\\n\\n\\n\\n\\n\\n\\n\\n\\n\\n\\n\\n\\n\\n\\n\\n\\n\\n\\n\\n\\nLoading...\\n\\n\\n\\n\\n\\n\\n\\n\\n\\n\\n\\n\\n\\n\\n\\n\\n\\n \\n \\nHome\\n\\nLocal removalists \\n\\nLocal removalists\\n\\n\\n\\nInterstate removalists \\n\\nSydney interstate removalists\\nMelbourne interstate removalists\\nBrisbane interstate removalists\\nAdelaide interstate removalists\\nCanberra interstate removalists\\n\\n\\nContact\\n\\nGet a quote\\n\\n\\n\\n\\n\\n\\n\\n\\n\\n\\n\\nLOCAL REMOVALS \\nYour trusted partner in seamless moving and packing solutions!\\r\\n                        \\n Google Rating        5 stars, 111 reviews \\n\\n\\n\\n\\n\\n\\n\\n\\n\\n\\n\\n\\n\\n\\n\\n\\nRequst A call for You: \\n\\n\\n\\n\\n\\n\\n\\n\\n\\n\\n\\n\\n\\n\\n\\n\\n\\n\\n\\nSend Message\\n\\n\\n\\n\\n\\n\\n\\n\\n\\n\\n\\n\\n\\n\\nLocal removal services via \"Victoria on move\"\\nVictoria on Move is your trusted local moving company in Melbourne, specializing in seamless relocation services. As experienced furniture movers and relocation experts, we provide top-notch packing and moving services tailored to your needs. Whether you\\'re moving across town or relocating interstate, our professional movers ensure a stress-free experience. Count on Victoria on Move for reliable removal services, making us the preferred choice among local movers in Melbourne. Discover why we\\'re recognized for our commitment to quality and customer satisfaction.\\n\\n\\n\\n\\n\\n\\n\\n\\n\\nApartment Moving\\nEfficient and careful relocation services tailored for apartments of all sizes, ensuring smooth transitions to your new home.\\n\\n\\n\\n\\n\\n\\n\\n\\n\\nVilla Moving\\n Comprehensive moving solutions for large residences and villas, handling valuable possessions with utmost care and precision.\\n\\n\\n\\n\\n\\n\\n\\n\\n\\nHousehold Moving\\nFull-service moving options for households, including packing, loading, transportation, and unpacking services to simplify your move.\\n\\n\\n\\n\\n\\n\\n\\n\\n\\nOffice Moving\\nSpecialized expertise in office relocations, minimizing downtime and ensuring your business operations continue seamlessly.\\n\\n\\n\\n\\n\\n\\n\\n\\n\\nFurniture Moving\\nExperienced in handling furniture of all sizes and types, ensuring safe transport and setup in your new location.\\n\\n\\n\\n\\n\\n\\n\\n\\n\\nPacking and Unpacking Services\\nOptional packing and unpacking services available to save you time and effort, using high-quality packing materials.\\n\\n\\n\\n\\n\\n\\n\\n\\n\\nCustomized Moving Plans\\nTailored moving plans to fit your specific requirements and schedule, providing personalized service and peace of mind.\\n\\n\\n\\n\\n\\n\\n\\n\\n\\nProfessional Team\\nExperienced and courteous moving professionals dedicated to delivering exceptional service and customer satisfaction throughout the entire moving process.\\n\\n\\n\\n\\n\\n\\n\\nFind removalists travelling to or from Melbourne\\n\\n From Melbourne \\n To Melbourne  \\n\\nMoving from Ballarat to MelbourneMoving from Bendigo to MelbourneMoving from Geelong to MelbourneMoving from Melton to MelbourneMoving from Mildura to MelbourneMoving from Mooroopna to MelbourneMoving from Shepparton to MelbourneMoving from Sunbury to MelbourneMoving from Traralgon to MelbourneMoving from Warrnambool to MelbourneMoving from Wodonga to Melbourne  Moving from Melbourne to BallaratMoving from Melbourne to BendigoMoving from Melbourne to GeelongMoving from Melbourne to MeltonMoving from Melbourne to MilduraMoving from Melbourne to MooroopnaMoving from Melbourne to SheppartonMoving from Melbourne to SunburyMoving from Melbourne to TraralgonMoving from Melbourne to WarrnamboolMoving from Melbourne to Wodonga Looking for interstate removalists Melbourne? We can also assist with interstate moves to or from Melbourne.\\n\\n\\n\\n\\n\\nGet In Touch\\nWollert Victoria\\n0404922328\\nvictoriaonmove07@gmail.com\\n\\n\\n\\n\\n\\n\\n\\n\\nQuick Links\\nAbout Us\\nContact Us\\nOur Services\\nTerms & Condition\\n\\n\\n\\nPhoto Gallery\\n\\n\\n\\n\\n\\n\\n\\n\\n\\n\\n\\n\\n\\n\\n\\n\\n\\n\\n\\n\\n\\n\\nCheck us out on Google!\\n\\n\\n\\n\\n\\n\\n\\n\\n\\n\\n\\n\\r\\n                            ©  Victoria On Move 2024, All Right Reserved. \\r\\n\\t\\t\\t\\t\\t\\t\\t\\r\\n\\t\\t\\t\\t\\t\\t\\t\\r\\n\\t\\t\\t\\t\\t\\t\\tDesigned By HTML Codex\\n\\n\\n\\nHome\\n\\n\\n\\n\\n\\n\\n\\n\\n\\n\\n\\n\\n\\n\\n\\n\\n\\n\\n\\n\\n\\n'),\n",
       " Document(metadata={'source': 'https://victoriaonmove.com.au/index.html', 'title': 'VICTORIA ON MOVE', 'description': 'Victoria on Move provides the best moving services', 'language': 'en'}, page_content=\"\\n\\n\\n\\nVICTORIA ON MOVE\\n\\n\\n\\n\\nInterstate Removalists\\n\\n\\n\\n\\n\\n\\n\\n\\n\\n\\n\\n\\n\\n\\n\\n\\n\\n\\n\\n\\n\\n\\nLoading...\\n\\n\\n\\n\\n\\n\\n\\n\\n\\n\\n\\n\\n\\n\\n\\n\\n\\n \\n \\nHome\\n\\nLocal removalists \\n\\nLocal removalists\\n\\n\\n\\nInterstate removalists \\n\\nSydney interstate removalists\\nMelbourne interstate removalists\\nBrisbane interstate removalists\\nAdelaide interstate removalists\\nCanberra interstate removalists\\n\\n\\nContact\\nGallery\\n\\nGet a quote\\n\\n\\n\\n\\n\\n\\n\\n\\nRelocate with confidence \\nYour trusted partner in seamless moving and packing solutions!\\r\\n                        \\n Google Rating        5 stars, 111 reviews \\n\\n\\n\\n\\n\\n\\n\\n\\n\\n\\n\\n\\n\\n\\n\\n\\n\\n\\n\\n\\n\\n\\n\\n\\nRequst A call for You: \\n\\n\\n\\n\\n\\n\\n\\n\\n\\n\\n\\n\\n\\n\\n\\n\\n\\n\\n\\nSend Message\\n\\n\\n\\n\\n\\n\\n\\n\\n\\nExplore Our Fleet\\nVehicles Tailored for Your Moving Needs\\n\\n\\n\\n\\n\\n\\n \\n\\nSmall Truck\\nWith 2 Mover\\nFrom $130/hr\\n4.5 ton 20 cubic \\n\\r\\n                                Our Small Truck can manage a student apartment, small office .\\n\\n\\n\\n\\n\\n\\n\\n\\n\\nMedium Truck\\nWith 2 Mover\\nFrom $145 p/hr\\n6 ton 30-35 cubic \\nOur Medium trucks can manage 2-3 bedroom with single lounge outdoor boxes and miscellaneous.\\n\\n\\n\\n\\n\\n\\n\\n \\n\\nLarge Truck\\nWith 2 Mover\\nFrom $155 p/hr\\n8 ton 40 cubic  \\n\\r\\n                               Our Large trucks can handle 3-4 bedrooms with double lounge outdoor boxes and miscellaneous.\\n\\n\\n\\n\\n\\n\\n\\n\\n\\nX-Large Truck\\nWith 2 Mover\\nFrom $165 p/hr\\n4.5 ton 20 cubic \\r\\n\\t\\t\\t\\t\\t\\t\\t\\t    (10 ton or 50 cubic meter)\\n\\r\\n                               Our X-Large trucks can handle \\r\\n                            3-4 bedrooms double lounge outdoor miscellaneous items.\\n\\n\\n\\n\\n\\n\\n\\n\\n\\n\\n\\n\\n\\n\\n\\n\\n\\nOUR SERVICE\\nWE OFFER QUICK & POWERFUL LOGISTICS SOLUTION\\n FURNITURE REMOVALS:  We are the furniture removals specialists in Victoria. Our Teams are experienced and comes with Furniture moving equipments like- Trolleys. Blankets, Loading Ramps.\\n INSURANCE:  Victoria On Move Pvt Ltd. look after your goods arrive safely at your destination. We have Transit and Public liability insurance. Transit insurance covers loading and unloading from vehicle , and Road accident cover.\\n 1 BED HOME:  \\r\\n1 Bed, Mattress, Tall Boy, Bedside, Refrigerator, Washing Machine, Some Boxes.\\n 2 BED HOME:  \\r\\n2 Beds, Mattress, Tall Boy, Bedside, Refrigerator, Washing Machine,Dresser, Barbeque, Some Boxes, Loose stuff.\\n Big HOME:  \\r\\n4-5 Bed Room, Double Lounge, Mattress, Tall Boy, Bedside, Refrigerator, Washing Machine,Dresser, Barbeque, Some Boxes,Furniture, Loose stuff.\\nGet a Quote\\n\\n\\n\\n\\n\\n\\n\\n\\n\\n\\n\\nInterstate Removalists:\\nSeamless Relocation Across State Lines\\n\\n\\n\\n\\n\\n\\n\\n\\n \\n\\n\\n\\n\\n\\nMelbourne to Sydney Removalists\\nBook Now\\n\\n\\n\\n\\n\\n\\n\\n\\n\\nMelbourne to Brisbane Removalists\\nBook Now\\n\\n\\n\\n\\n\\n\\n\\n\\n\\nMelbourne to Adelaide Removalists\\nBook Now\\n\\n\\n\\n\\n\\n\\n\\n\\n\\nMelbourne to Canberra Removalists\\nBook Now\\n\\n\\n\\n\\n\\n\\n\\n\\n\\n\\n\\n\\n\\n\\n\\n\\n\\n\\n\\n\\nOUR MOVING WORK & ETHICS\\nMoving house furniture is an art that comes with experience and a steadfast commitment to our customers' needs. It's a challenging industry, and not everyone survives for long without the expertise and dedication that we bring to every job. Our long history as Removalists in Melbourne is a testament to our sincerity and hard work.\\nUnlike some other moving companies, we value the trust our customers place in us. Our customer reviews on Google are genuine, and we never manipulate them. We trust in our quality and experience and believe in our destiny to provide top-notch moving and packing services to our clients.\\n\\nContact Us\\n\\n\\n\\n\\n\\n\\n\\n\\n\\n\\n\\nOur Clients Say!\\nDiscover firsthand experiences from our valued clients through their heartfelt testimonials. From seamless moves to exceptional service, our customers share how we've made their relocation journey stress-free and rewarding. Explore their stories and see why they trust us with their moves time and again.\\n\\n\\n\\n\\n\\n\\n\\n\\n\\n\\n\\n\\n\\n\\n\\n\\n\\n\\n\\n\\n\\n\\n\\n\\n\\n\\n\\n\\n\\n\\n\\n\\n\\n\\n\\n\\n\\n\\n\\n\\n\\n\\n\\n\\n\\n\\n\\n\\n\\n\\n\\n\\n\\n\\n\\n\\n\\n\\n\\n\\n\\nGet In Touch\\nWollert Victoria\\n0404922328\\nvictoriaonmove07@gmail.com\\n\\n\\n\\n\\n\\n\\n\\n\\nQuick Links\\nAbout Us\\nContact Us\\nOur Services\\nTerms & Condition\\n\\n\\n\\nPhoto Gallery\\n\\n\\n\\n\\n\\n\\n\\n\\n\\n\\n\\n\\n\\n\\n\\n\\n\\n\\n\\n\\n\\n\\nCheck us out on Google!\\n\\n\\n\\n\\n\\n\\n\\n\\n\\n\\n\\n\\r\\n                            ©  Victoria On Move 2024, All Right Reserved. \\r\\n\\t\\t\\t\\t\\t\\t\\t\\r\\n\\t\\t\\t\\t\\t\\t\\t\\r\\n\\t\\t\\t\\t\\t\\t\\tDesigned By HTML Codex\\n\\n\\n\\nHome\\n\\n\\n\\n\\n\\n\\n\\n\\n\\n\\n\\n\\n\\n\\n\\n\\n\\n\\n\\n\\n\\n\"),\n",
       " Document(metadata={'source': 'https://victoriaonmove.com.au/contact.html', 'title': 'VICTORIA ON MOVE', 'description': 'Best Interstate Removalists', 'language': 'en'}, page_content=\"\\n\\n\\n\\nVICTORIA ON MOVE\\n\\n\\n\\n\\n\\nVictoria's Best Removalists\\n\\n\\n\\n\\n\\n\\n\\n\\n\\n\\n\\n\\n\\n\\n\\n\\n\\n\\n\\n\\n\\n\\nLoading...\\n\\n\\n\\n\\n\\n\\n\\n\\n\\n\\n\\n\\n\\n\\n\\n\\n\\nHome\\n\\n\\n\\nLocal removalists \\n\\nLocal removalists\\n\\n\\n\\nInterstate removalists \\n\\nSydney interstate removalists\\nMelbourne interstate removalists\\nBrisbane interstate removalists\\nAdelaide interstate removalists\\nCanberra interstate removalists\\n\\n\\nContact\\n\\nGet a quote\\n\\n\\n\\n\\n\\n\\n\\n\\n\\n\\n\\n\\n\\n\\n\\n\\n\\n\\n\\n\\nContact Us\\nYou can contact us any way that is convenient for you. We are available 24/7 via fax or email. You can also use a quick contact form below or visit our office personally. We would be happy to answer your questions.\\n\\n\\n\\n\\n\\n\\n\\n\\n\\n\\n Wollert Victoria\\n\\n\\n\\n\\n\\n\\n\\n\\n\\n victoriaonmove07@gmail.com\\n\\n\\n\\n\\n\\n\\n\\n\\n\\n0404922328\\n\\n\\n\\n\\n\\n\\n\\n\\n\\n\\n\\n\\n\\n\\n\\n\\nYour Name\\n\\n\\n\\n\\n\\n\\nYour Email\\n\\n\\n\\n\\n\\nPhone Number\\n\\n\\n\\n\\n\\nPickup Date\\n\\n\\n\\n\\n\\nPickup address\\n\\n\\n\\n\\n\\nDrop Off Address\\n\\n\\n\\n\\nDo you require packing & unpacking?E.g. packing of crockery and clothes in boxes.\\n\\nYes\\nNo\\n\\n\\n\\n\\n\\nHouse Size (if applicable)\\n\\n1 Bedroom\\n2 Bedroom\\n3 Bedroom\\n4 Bedroom\\n5 Bedroom\\n6 Bedroom\\n\\n\\n\\n\\n\\nTruck Size\\n\\nSmall Truck (4.5 Ton) + 2 Men\\nMedium Truck (6 Ton) + 2 Men\\nLarge Truck (8 Ton) + 2 Men\\nX-Large Truck (10 Ton) + 2 Men\\n\\n\\n\\n\\n\\nExtra Heavy Item\\n\\n\\nPiano\\nPool Table\\nNo\\n\\n\\n\\n\\n\\nStairs?\\n\\nYes\\nNo\\nLift\\n\\n\\n\\n\\n\\n\\nMessage\\n\\n\\n\\nSend Message\\n\\n\\n\\n\\n\\n\\n\\n\\n\\nFind removalists travelling interstate to or from Sydney  From Sydney   To Sydney   Moving from Adelaide to SydneyMoving from Ballarat to SydneyMoving from Bendigo to SydneyMoving from Brisbane to SydneyMoving from Cairns to SydneyMoving from Canberra to SydneyMoving from Darwin to SydneyMoving from Geelong to SydneyMoving from Gold Coast to SydneyMoving from Hobart to SydneyMoving from Melbourne to SydneyMoving from Perth to SydneyMoving from Tasmania to Sydney  Moving from Sydney to AdelaideMoving from Sydney to BallaratMoving from Sydney to BendigoMoving from Sydney to BrisbaneMoving from Sydney to BunburyMoving from Sydney to BundabergMoving from Sydney to CairnsMoving from Sydney to CanberraMoving from Sydney to DarwinMoving from Sydney to DevonportMoving from Sydney to Fraser CoastMoving from Sydney to GeelongMoving from Sydney to GeraldtonMoving from Sydney to GladstoneMoving from Sydney to Gold CoastMoving from Sydney to Hervey BayMoving from Sydney to HobartMoving from Sydney to LauncestonMoving from Sydney to MackayMoving from Sydney to MandurahMoving from Sydney to MelbourneMoving from Sydney to MeltonMoving from Sydney to PerthMoving from Sydney to RockhamptonMoving from Sydney to SheppartonMoving from Sydney to Sunshine CoastMoving from Sydney to TasmaniaMoving from Sydney to ToowoombaMoving from Sydney to TownsvilleMoving from Sydney to TraralgonMoving from Sydney to Warrnambool If you are in need of local removalists services in Sydney we can also help with professional movers for local moves.\\n\\n\\n\\n\\n\\nGet In Touch\\nWollert Victoria\\n0404922328\\nvictoriaonmove07@gmail.com\\n\\n\\n\\n\\n\\n\\n\\n\\nQuick Links\\nAbout Us\\nContact Us\\nOur Services\\n\\nTerms & Condition\\n\\n\\nPhoto Gallery\\n\\n\\n\\n\\n\\n\\n\\n\\n\\n\\n\\n\\n\\n\\n\\n\\n\\n\\n\\n\\n\\n\\nCheck us out on Google!\\n\\n\\n\\n\\n\\n\\n\\n\\n\\n\\n\\r\\n                            ©  Victoria On Move 2024, All Right Reserved. \\r\\n\\t\\t\\t\\t\\t\\t\\t\\r\\n\\t\\t\\t\\t\\t\\t\\t\\r\\n\\t\\t\\t\\t\\t\\t\\tDesigned By HTML Codex\\n\\n\\n\\nHome\\n\\n\\n\\n\\n\\n\\n\\n\\n\\n\\n\\n\\n\\n\\n\\n\\n\\n\\n\\n\\n\\n\")]"
      ]
     },
     "execution_count": 7,
     "metadata": {},
     "output_type": "execute_result"
    }
   ],
   "source": [
    "results"
   ]
  },
  {
   "cell_type": "code",
   "execution_count": 8,
   "metadata": {},
   "outputs": [],
   "source": [
    "data = results\n",
    "text_splitter = RecursiveCharacterTextSplitter(chunk_size=1000)\n",
    "docs = text_splitter.split_documents(data)"
   ]
  },
  {
   "cell_type": "code",
   "execution_count": 9,
   "metadata": {},
   "outputs": [
    {
     "name": "stdout",
     "output_type": "stream",
     "text": [
      "Total number of documents:  16\n"
     ]
    }
   ],
   "source": [
    "print(\"Total number of documents: \",len(docs))"
   ]
  },
  {
   "cell_type": "code",
   "execution_count": 10,
   "metadata": {},
   "outputs": [
    {
     "data": {
      "text/plain": [
       "Document(metadata={'source': 'https://www.victoriaonmove.com.au/local-removalists.html', 'title': 'VICTORIA ON MOVE', 'description': 'Victoria on Move provides the best moving services', 'language': 'en'}, page_content='VICTORIA ON MOVE\\n\\n\\n\\n\\nLocal Removalists\\n\\n\\n\\n\\n\\n\\n\\n\\n\\n\\n\\n\\n\\n\\n\\n\\n\\n\\n\\n\\n\\n\\nLoading...\\n\\n\\n\\n\\n\\n\\n\\n\\n\\n\\n\\n\\n\\n\\n\\n\\n\\n \\n \\nHome\\n\\nLocal removalists \\n\\nLocal removalists\\n\\n\\n\\nInterstate removalists \\n\\nSydney interstate removalists\\nMelbourne interstate removalists\\nBrisbane interstate removalists\\nAdelaide interstate removalists\\nCanberra interstate removalists\\n\\n\\nContact\\n\\nGet a quote\\n\\n\\n\\n\\n\\n\\n\\n\\n\\n\\n\\nLOCAL REMOVALS \\nYour trusted partner in seamless moving and packing solutions!\\r\\n                        \\n Google Rating        5 stars, 111 reviews \\n\\n\\n\\n\\n\\n\\n\\n\\n\\n\\n\\n\\n\\n\\n\\n\\nRequst A call for You: \\n\\n\\n\\n\\n\\n\\n\\n\\n\\n\\n\\n\\n\\n\\n\\n\\n\\n\\n\\nSend Message')"
      ]
     },
     "execution_count": 10,
     "metadata": {},
     "output_type": "execute_result"
    }
   ],
   "source": [
    "docs[0]"
   ]
  },
  {
   "cell_type": "code",
   "execution_count": 11,
   "metadata": {},
   "outputs": [],
   "source": [
    "from langchain_chroma import Chroma\n",
    "from langchain_community.embeddings import OllamaEmbeddings"
   ]
  },
  {
   "cell_type": "code",
   "execution_count": 12,
   "metadata": {},
   "outputs": [
    {
     "name": "stderr",
     "output_type": "stream",
     "text": [
      "/var/folders/p1/2pgfb5b50c343r108b91w7f80000gn/T/ipykernel_31549/1052851865.py:1: LangChainDeprecationWarning: The class `OllamaEmbeddings` was deprecated in LangChain 0.3.1 and will be removed in 1.0.0. An updated version of the class exists in the :class:`~langchain-ollama package and should be used instead. To use it run `pip install -U :class:`~langchain-ollama` and import as `from :class:`~langchain_ollama import OllamaEmbeddings``.\n",
      "  embeddings = OllamaEmbeddings(model=\"nomic-embed-text\",base_url=\"http://localhost:11434\");\n"
     ]
    }
   ],
   "source": [
    "embeddings = OllamaEmbeddings(model=\"nomic-embed-text\",base_url=\"http://localhost:11434\");"
   ]
  },
  {
   "cell_type": "code",
   "execution_count": 13,
   "metadata": {},
   "outputs": [],
   "source": [
    "vectorstore = Chroma.from_documents(documents=docs, embedding=embeddings)"
   ]
  },
  {
   "cell_type": "code",
   "execution_count": 14,
   "metadata": {},
   "outputs": [],
   "source": [
    "retriever = vectorstore.as_retriever(search_type=\"similarity\", search_kwargs={\"k\":3})"
   ]
  },
  {
   "cell_type": "code",
   "execution_count": 15,
   "metadata": {},
   "outputs": [],
   "source": [
    "retrieved_docs = retriever.invoke(\"What kind of services they provide?\")"
   ]
  },
  {
   "cell_type": "code",
   "execution_count": 16,
   "metadata": {},
   "outputs": [
    {
     "data": {
      "text/plain": [
       "3"
      ]
     },
     "execution_count": 16,
     "metadata": {},
     "output_type": "execute_result"
    }
   ],
   "source": [
    "len(retrieved_docs)"
   ]
  },
  {
   "cell_type": "code",
   "execution_count": 17,
   "metadata": {},
   "outputs": [
    {
     "data": {
      "text/plain": [
       "[Document(metadata={'description': 'Victoria on Move provides the best moving services', 'language': 'en', 'source': 'https://victoriaonmove.com.au/index.html', 'title': 'VICTORIA ON MOVE'}, page_content=\"Contact Us\\n\\n\\n\\n\\n\\n\\n\\n\\n\\n\\n\\nOur Clients Say!\\nDiscover firsthand experiences from our valued clients through their heartfelt testimonials. From seamless moves to exceptional service, our customers share how we've made their relocation journey stress-free and rewarding. Explore their stories and see why they trust us with their moves time and again.\\n\\n\\n\\n\\n\\n\\n\\n\\n\\n\\n\\n\\n\\n\\n\\n\\n\\n\\n\\n\\n\\n\\n\\n\\n\\n\\n\\n\\n\\n\\n\\n\\n\\n\\n\\n\\n\\n\\n\\n\\n\\n\\n\\n\\n\\n\\n\\n\\n\\n\\n\\n\\n\\n\\n\\n\\n\\n\\n\\n\\n\\nGet In Touch\\nWollert Victoria\\n0404922328\\nvictoriaonmove07@gmail.com\\n\\n\\n\\n\\n\\n\\n\\n\\nQuick Links\\nAbout Us\\nContact Us\\nOur Services\\nTerms & Condition\\n\\n\\n\\nPhoto Gallery\\n\\n\\n\\n\\n\\n\\n\\n\\n\\n\\n\\n\\n\\n\\n\\n\\n\\n\\n\\n\\n\\n\\nCheck us out on Google!\\n\\n\\n\\n\\n\\n\\n\\n\\n\\n\\n\\n\\r\\n                            ©  Victoria On Move 2024, All Right Reserved. \\r\\n\\t\\t\\t\\t\\t\\t\\t\\r\\n\\t\\t\\t\\t\\t\\t\\t\\r\\n\\t\\t\\t\\t\\t\\t\\tDesigned By HTML Codex\\n\\n\\n\\nHome\"),\n",
       " Document(metadata={'description': 'Victoria on Move provides the best moving services', 'language': 'en', 'source': 'https://victoriaonmove.com.au/index.html', 'title': 'VICTORIA ON MOVE'}, page_content='OUR SERVICE\\nWE OFFER QUICK & POWERFUL LOGISTICS SOLUTION\\n FURNITURE REMOVALS:  We are the furniture removals specialists in Victoria. Our Teams are experienced and comes with Furniture moving equipments like- Trolleys. Blankets, Loading Ramps.\\n INSURANCE:  Victoria On Move Pvt Ltd. look after your goods arrive safely at your destination. We have Transit and Public liability insurance. Transit insurance covers loading and unloading from vehicle , and Road accident cover.\\n 1 BED HOME:  \\r\\n1 Bed, Mattress, Tall Boy, Bedside, Refrigerator, Washing Machine, Some Boxes.\\n 2 BED HOME:  \\r\\n2 Beds, Mattress, Tall Boy, Bedside, Refrigerator, Washing Machine,Dresser, Barbeque, Some Boxes, Loose stuff.\\n Big HOME:  \\r\\n4-5 Bed Room, Double Lounge, Mattress, Tall Boy, Bedside, Refrigerator, Washing Machine,Dresser, Barbeque, Some Boxes,Furniture, Loose stuff.\\nGet a Quote\\n\\n\\n\\n\\n\\n\\n\\n\\n\\n\\n\\nInterstate Removalists:\\nSeamless Relocation Across State Lines'),\n",
       " Document(metadata={'description': 'Victoria on Move provides the best moving services', 'language': 'en', 'source': 'https://www.victoriaonmove.com.au/local-removalists.html', 'title': 'VICTORIA ON MOVE'}, page_content='Packing and Unpacking Services\\nOptional packing and unpacking services available to save you time and effort, using high-quality packing materials.\\n\\n\\n\\n\\n\\n\\n\\n\\n\\nCustomized Moving Plans\\nTailored moving plans to fit your specific requirements and schedule, providing personalized service and peace of mind.\\n\\n\\n\\n\\n\\n\\n\\n\\n\\nProfessional Team\\nExperienced and courteous moving professionals dedicated to delivering exceptional service and customer satisfaction throughout the entire moving process.\\n\\n\\n\\n\\n\\n\\n\\nFind removalists travelling to or from Melbourne\\n\\n From Melbourne \\n To Melbourne')]"
      ]
     },
     "execution_count": 17,
     "metadata": {},
     "output_type": "execute_result"
    }
   ],
   "source": [
    "retrieved_docs"
   ]
  },
  {
   "cell_type": "code",
   "execution_count": 18,
   "metadata": {},
   "outputs": [
    {
     "name": "stdout",
     "output_type": "stream",
     "text": [
      "Contact Us\n",
      "\n",
      "\n",
      "\n",
      "\n",
      "\n",
      "\n",
      "\n",
      "\n",
      "\n",
      "\n",
      "\n",
      "Our Clients Say!\n",
      "Discover firsthand experiences from our valued clients through their heartfelt testimonials. From seamless moves to exceptional service, our customers share how we've made their relocation journey stress-free and rewarding. Explore their stories and see why they trust us with their moves time and again.\n",
      "\n",
      "\n",
      "\n",
      "\n",
      "\n",
      "\n",
      "\n",
      "\n",
      "\n",
      "\n",
      "\n",
      "\n",
      "\n",
      "\n",
      "\n",
      "\n",
      "\n",
      "\n",
      "\n",
      "\n",
      "\n",
      "\n",
      "\n",
      "\n",
      "\n",
      "\n",
      "\n",
      "\n",
      "\n",
      "\n",
      "\n",
      "\n",
      "\n",
      "\n",
      "\n",
      "\n",
      "\n",
      "\n",
      "\n",
      "\n",
      "\n",
      "\n",
      "\n",
      "\n",
      "\n",
      "\n",
      "\n",
      "\n",
      "\n",
      "\n",
      "\n",
      "\n",
      "\n",
      "\n",
      "\n",
      "\n",
      "\n",
      "\n",
      "\n",
      "\n",
      "\n",
      "Get In Touch\n",
      "Wollert Victoria\n",
      "0404922328\n",
      "victoriaonmove07@gmail.com\n",
      "\n",
      "\n",
      "\n",
      "\n",
      "\n",
      "\n",
      "\n",
      "\n",
      "Quick Links\n",
      "About Us\n",
      "Contact Us\n",
      "Our Services\n",
      "Terms & Condition\n",
      "\n",
      "\n",
      "\n",
      "Photo Gallery\n",
      "\n",
      "\n",
      "\n",
      "\n",
      "\n",
      "\n",
      "\n",
      "\n",
      "\n",
      "\n",
      "\n",
      "\n",
      "\n",
      "\n",
      "\n",
      "\n",
      "\n",
      "\n",
      "\n",
      "\n",
      "\n",
      "\n",
      "Check us out on Google!\n",
      "\n",
      "\n",
      "\n",
      "\n",
      "\n",
      "\n",
      "\n",
      "\n",
      "\n",
      "\n",
      "\n",
      "\n",
      "                            ©  Victoria On Move 2024, All Right Reserved. \n",
      "\t\t\t\t\t\t\t\n",
      "\t\t\t\t\t\t\t\n",
      "\t\t\t\t\t\t\tDesigned By HTML Codex\n",
      "\n",
      "\n",
      "\n",
      "Home\n"
     ]
    }
   ],
   "source": [
    "print(retrieved_docs[0].page_content)"
   ]
  },
  {
   "cell_type": "code",
   "execution_count": 19,
   "metadata": {},
   "outputs": [
    {
     "name": "stderr",
     "output_type": "stream",
     "text": [
      "/var/folders/p1/2pgfb5b50c343r108b91w7f80000gn/T/ipykernel_31549/4196002465.py:2: LangChainDeprecationWarning: The class `Ollama` was deprecated in LangChain 0.3.1 and will be removed in 1.0.0. An updated version of the class exists in the :class:`~langchain-ollama package and should be used instead. To use it run `pip install -U :class:`~langchain-ollama` and import as `from :class:`~langchain_ollama import OllamaLLM``.\n",
      "  llm=Ollama(model=\"llama3.2\",base_url=\"http://localhost:11434\",temperature=0.5)\n"
     ]
    }
   ],
   "source": [
    "from langchain_community.llms import Ollama\n",
    "llm=Ollama(model=\"llama3.2\",base_url=\"http://localhost:11434\",temperature=0.5)"
   ]
  },
  {
   "cell_type": "code",
   "execution_count": 20,
   "metadata": {},
   "outputs": [],
   "source": [
    "from langchain.chains import create_retrieval_chain\n",
    "from langchain.chains.combine_documents import create_stuff_documents_chain\n",
    "from langchain_core.prompts import ChatPromptTemplate"
   ]
  },
  {
   "cell_type": "code",
   "execution_count": 21,
   "metadata": {},
   "outputs": [],
   "source": [
    "system_prompt = (\n",
    "    \"You are an assistant for question-answering tasks. \"\n",
    "    \"Use the following pieces of retrieved context to answer \"\n",
    "    \"the question. If you don't know the answer, say that you \"\n",
    "    \"don't know. Use three sentences maximum and keep the \"\n",
    "    \"answer concise.\"\n",
    "    \"\\n\\n\"\n",
    "    \"{context}\"\n",
    ")"
   ]
  },
  {
   "cell_type": "code",
   "execution_count": 22,
   "metadata": {},
   "outputs": [],
   "source": [
    "prompt = ChatPromptTemplate.from_messages(\n",
    "    [\n",
    "        (\"system\", system_prompt),\n",
    "        (\"human\", \"{input}\"),\n",
    "    ]\n",
    ")"
   ]
  },
  {
   "cell_type": "code",
   "execution_count": 23,
   "metadata": {},
   "outputs": [],
   "source": [
    "question_answer_chain = create_stuff_documents_chain(llm, prompt)\n",
    "rag_chain = create_retrieval_chain(retriever, question_answer_chain)"
   ]
  },
  {
   "cell_type": "code",
   "execution_count": 24,
   "metadata": {},
   "outputs": [
    {
     "name": "stdout",
     "output_type": "stream",
     "text": [
      "Victoria On Move provides furniture removals, packing and unpacking services, customized moving plans, professional team, and interstate relocation services. They offer tailored solutions for 1 bed, 2 bed, big home, and other types of moves. Their services include insurance coverage for transit and public liability.\n"
     ]
    }
   ],
   "source": [
    "response = rag_chain.invoke({\"input\": \"What kind of services they provide?\"})\n",
    "print(response[\"answer\"])"
   ]
  },
  {
   "cell_type": "code",
   "execution_count": null,
   "metadata": {},
   "outputs": [],
   "source": []
  }
 ],
 "metadata": {
  "kernelspec": {
   "display_name": ".venv",
   "language": "python",
   "name": "python3"
  },
  "language_info": {
   "codemirror_mode": {
    "name": "ipython",
    "version": 3
   },
   "file_extension": ".py",
   "mimetype": "text/x-python",
   "name": "python",
   "nbconvert_exporter": "python",
   "pygments_lexer": "ipython3",
   "version": "3.13.1"
  }
 },
 "nbformat": 4,
 "nbformat_minor": 2
}
