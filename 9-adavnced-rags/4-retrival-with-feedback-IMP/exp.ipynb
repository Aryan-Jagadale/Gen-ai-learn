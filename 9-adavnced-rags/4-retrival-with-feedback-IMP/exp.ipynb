{
 "cells": [
  {
   "cell_type": "code",
   "execution_count": 1,
   "metadata": {},
   "outputs": [],
   "source": [
    "from langchain_text_splitters import RecursiveCharacterTextSplitter\n",
    "from langchain.chains import RetrievalQA\n",
    "import json"
   ]
  },
  {
   "cell_type": "code",
   "execution_count": 3,
   "metadata": {},
   "outputs": [],
   "source": [
    "from langchain.vectorstores import FAISS\n",
    "from langchain_groq import ChatGroq\n",
    "from langchain_community.embeddings import OllamaEmbeddings"
   ]
  },
  {
   "cell_type": "code",
   "execution_count": 4,
   "metadata": {},
   "outputs": [],
   "source": [
    "path = \"../data/Understanding_Climate_Change.pdf\""
   ]
  },
  {
   "cell_type": "code",
   "execution_count": 5,
   "metadata": {},
   "outputs": [],
   "source": [
    "from PyPDF2 import PdfReader\n",
    "\n",
    "def read_pdf_to_string(path):\n",
    "    \"\"\"\n",
    "    Read a PDF document from the specified path and return its content as a string.\n",
    "\n",
    "    Args:\n",
    "        path (str): The file path to the PDF document.\n",
    "\n",
    "    Returns:\n",
    "        str: The concatenated text content of all pages in the PDF document.\n",
    "    \n",
    "    The function uses PyPDF2 to open the PDF document, iterate over each page,\n",
    "    extract the text content from each page, and append it to a single string.\n",
    "    \"\"\"\n",
    "    # Create a PDF reader object\n",
    "    reader = PdfReader(path)\n",
    "    content = \"\"\n",
    "    \n",
    "    # Iterate through all pages\n",
    "    for page in reader.pages:\n",
    "        # Extract text from the page and append to content\n",
    "        content += page.extract_text() + \"\\n\"\n",
    "    \n",
    "    return content.strip()"
   ]
  },
  {
   "cell_type": "code",
   "execution_count": 6,
   "metadata": {},
   "outputs": [],
   "source": [
    "def encode_from_string(content, chunk_size=1000, chunk_overlap=200):\n",
    "    \"\"\"\n",
    "    Encodes a string into a vector store using OpenAI embeddings.\n",
    "\n",
    "    Args:\n",
    "        content (str): The text content to be encoded.\n",
    "        chunk_size (int): The size of each chunk of text.\n",
    "        chunk_overlap (int): The overlap between chunks.\n",
    "\n",
    "    Returns:\n",
    "        FAISS: A vector store containing the encoded content.\n",
    "\n",
    "    Raises:\n",
    "        ValueError: If the input content is not valid.\n",
    "        RuntimeError: If there is an error during the encoding process.\n",
    "    \"\"\"\n",
    "\n",
    "    if not isinstance(content, str) or not content.strip():\n",
    "        raise ValueError(\"Content must be a non-empty string.\")\n",
    "\n",
    "    if not isinstance(chunk_size, int) or chunk_size <= 0:\n",
    "        raise ValueError(\"chunk_size must be a positive integer.\")\n",
    "\n",
    "    if not isinstance(chunk_overlap, int) or chunk_overlap < 0:\n",
    "        raise ValueError(\"chunk_overlap must be a non-negative integer.\")\n",
    "\n",
    "    try:\n",
    "        # Split the content into chunks\n",
    "        text_splitter = RecursiveCharacterTextSplitter(\n",
    "            chunk_size=chunk_size,\n",
    "            chunk_overlap=chunk_overlap,\n",
    "            length_function=len,\n",
    "            is_separator_regex=False,\n",
    "        )\n",
    "        chunks = text_splitter.create_documents([content])\n",
    "\n",
    "        # Assign metadata to each chunk\n",
    "        for chunk in chunks:\n",
    "            chunk.metadata['relevance_score'] = 1.0\n",
    "\n",
    "        # Generate embeddings and create the vector store\n",
    "        embeddings = OllamaEmbeddings(model='nomic-embed-text', show_progress=True)\n",
    "        vectorstore = FAISS.from_documents(chunks, embeddings)\n",
    "\n",
    "    except Exception as e:\n",
    "        raise RuntimeError(f\"An error occurred during the encoding process: {str(e)}\")\n",
    "\n",
    "    return vectorstore"
   ]
  },
  {
   "cell_type": "code",
   "execution_count": 7,
   "metadata": {},
   "outputs": [
    {
     "name": "stderr",
     "output_type": "stream",
     "text": [
      "/var/folders/p1/2pgfb5b50c343r108b91w7f80000gn/T/ipykernel_59404/1791949022.py:42: LangChainDeprecationWarning: The class `OllamaEmbeddings` was deprecated in LangChain 0.3.1 and will be removed in 1.0.0. An updated version of the class exists in the :class:`~langchain-ollama package and should be used instead. To use it run `pip install -U :class:`~langchain-ollama` and import as `from :class:`~langchain_ollama import OllamaEmbeddings``.\n",
      "  embeddings = OllamaEmbeddings(model='nomic-embed-text', show_progress=True)\n",
      "OllamaEmbeddings: 100%|██████████| 93/93 [01:37<00:00,  1.05s/it]\n"
     ]
    }
   ],
   "source": [
    "content = read_pdf_to_string(path)\n",
    "vectorstore = encode_from_string(content)\n",
    "retriever = vectorstore.as_retriever()"
   ]
  },
  {
   "cell_type": "code",
   "execution_count": null,
   "metadata": {},
   "outputs": [],
   "source": [
    "llm = ChatGroq(model=\"llama-3.3-70b-versatile\", temperature=0, max_tokens=4000,api_key='')"
   ]
  },
  {
   "cell_type": "code",
   "execution_count": 9,
   "metadata": {},
   "outputs": [],
   "source": [
    "qa_chain = RetrievalQA.from_chain_type(llm, retriever=retriever)"
   ]
  },
  {
   "cell_type": "code",
   "execution_count": 10,
   "metadata": {},
   "outputs": [],
   "source": [
    "def get_user_feedback(query, response, relevance, quality, comments=\"\"):\n",
    "    return {\n",
    "        \"query\": query,\n",
    "        \"response\": response,\n",
    "        \"relevance\": int(relevance),\n",
    "        \"quality\": int(quality),\n",
    "        \"comments\": comments\n",
    "    }"
   ]
  },
  {
   "cell_type": "code",
   "execution_count": 11,
   "metadata": {},
   "outputs": [],
   "source": [
    "def store_feedback(feedback):\n",
    "    with open(\"../data/feedback_data.json\", \"a\") as f:\n",
    "        json.dump(feedback, f)\n",
    "        f.write(\"\\n\")"
   ]
  },
  {
   "cell_type": "code",
   "execution_count": 12,
   "metadata": {},
   "outputs": [],
   "source": [
    "def load_feedback_data():\n",
    "    feedback_data = []\n",
    "    try:\n",
    "        with open(\"../data/feedback_data.json\", \"r\") as f:\n",
    "            for line in f:\n",
    "                feedback_data.append(json.loads(line.strip()))\n",
    "    except FileNotFoundError:\n",
    "        print(\"No feedback data file found. Starting with empty feedback.\")\n",
    "    return feedback_data"
   ]
  },
  {
   "cell_type": "code",
   "execution_count": 13,
   "metadata": {},
   "outputs": [
    {
     "name": "stderr",
     "output_type": "stream",
     "text": [
      "/Users/sseadmin/Documents/personal_repos/Gen-ai-learn/.venv/lib/python3.13/site-packages/IPython/core/interactiveshell.py:3577: LangChainDeprecationWarning: As of langchain-core 0.3.0, LangChain uses pydantic v2 internally. The langchain_core.pydantic_v1 module was a compatibility shim for pydantic v1, and should no longer be used. Please update the code to import from Pydantic directly.\n",
      "\n",
      "For example, replace imports like: `from langchain_core.pydantic_v1 import BaseModel`\n",
      "with: `from pydantic import BaseModel`\n",
      "or the v1 compatibility namespace if you are working in a code base that has not been fully upgraded to pydantic 2 yet. \tfrom pydantic.v1 import BaseModel\n",
      "\n",
      "  exec(code_obj, self.user_global_ns, self.user_ns)\n"
     ]
    }
   ],
   "source": [
    "from langchain.prompts import PromptTemplate\n",
    "from langchain_core.pydantic_v1 import BaseModel, Field\n",
    "from typing import Any, Dict, List"
   ]
  },
  {
   "cell_type": "code",
   "execution_count": null,
   "metadata": {},
   "outputs": [],
   "source": [
    "class Response(BaseModel):\n",
    "    answer: str = Field(..., title=\"The answer to the question. The options can be only 'Yes' or 'No'\")\n",
    "\n",
    "def adjust_relevance_scores(query: str, docs: List[Any], feedback_data: List[Dict[str, Any]]) -> List[Any]:\n",
    "    # Create a prompt template for relevance checking\n",
    "    relevance_prompt = PromptTemplate(\n",
    "        input_variables=[\"query\", \"feedback_query\", \"doc_content\", \"feedback_response\"],\n",
    "        template=\"\"\"\n",
    "        Determine if the following feedback response is relevant to the current query and document content.\n",
    "        You are also provided with the Feedback original query that was used to generate the feedback response.\n",
    "        Current query: {query}\n",
    "        Feedback query: {feedback_query}\n",
    "        Document content: {doc_content}\n",
    "        Feedback response: {feedback_response}\n",
    "        \n",
    "        Is this feedback relevant? Respond with only 'Yes' or 'No'.\n",
    "        \"\"\"\n",
    "    )\n",
    "    llm = ChatGroq(model=\"llama-3.3-70b-versatile\", temperature=0, max_tokens=4000,api_key='')\n",
    "\n",
    "    # Create an LLMChain for relevance checking\n",
    "    relevance_chain = relevance_prompt | llm.with_structured_output(Response)\n",
    "\n",
    "    for doc in docs:\n",
    "        relevant_feedback = []\n",
    "        \n",
    "        for feedback in feedback_data:\n",
    "            # Use LLM to check relevance\n",
    "            input_data = {\n",
    "                \"query\": query,\n",
    "                \"feedback_query\": feedback['query'],\n",
    "                \"doc_content\": doc.page_content[:1000],\n",
    "                \"feedback_response\": feedback['response']\n",
    "            }\n",
    "            result = relevance_chain.invoke(input_data).answer\n",
    "            \n",
    "            if result == 'yes':\n",
    "                relevant_feedback.append(feedback)\n",
    "\n",
    "        print(f\"Relevant feedback for document '{doc.title}': {relevant_feedback}\")\n",
    "        \n",
    "        # Adjust the relevance score based on feedback\n",
    "        if relevant_feedback:\n",
    "            avg_relevance = sum(f['relevance'] for f in relevant_feedback) / len(relevant_feedback)\n",
    "            doc.metadata['relevance_score'] *= (avg_relevance / 3)  # Assuming a 1-5 scale, 3 is neutral\n",
    "    \n",
    "    # Re-rank documents based on adjusted scores\n",
    "    return sorted(docs, key=lambda x: x.metadata['relevance_score'], reverse=True)"
   ]
  },
  {
   "cell_type": "code",
   "execution_count": 15,
   "metadata": {},
   "outputs": [],
   "source": [
    "def fine_tune_index(feedback_data: List[Dict[str, Any]], texts: List[str]) -> Any:\n",
    "    # Filter high-quality responses\n",
    "    good_responses = [f for f in feedback_data if f['relevance'] >= 4 and f['quality'] >= 4]\n",
    "    \n",
    "    # Extract queries and responses, and create new documents\n",
    "    additional_texts = []\n",
    "    for f in good_responses:\n",
    "        combined_text = f['query'] + \" \" + f['response']\n",
    "        additional_texts.append(combined_text)\n",
    "\n",
    "    # make the list a string\n",
    "    additional_texts = \" \".join(additional_texts)\n",
    "    \n",
    "    # Create a new index with original and high-quality texts\n",
    "    all_texts = texts + additional_texts\n",
    "    new_vectorstore = encode_from_string(all_texts)\n",
    "    \n",
    "    return new_vectorstore"
   ]
  },
  {
   "cell_type": "code",
   "execution_count": 16,
   "metadata": {},
   "outputs": [
    {
     "name": "stderr",
     "output_type": "stream",
     "text": [
      "/var/folders/p1/2pgfb5b50c343r108b91w7f80000gn/T/ipykernel_59404/2152802428.py:4: LangChainDeprecationWarning: The method `Chain.__call__` was deprecated in langchain 0.1.0 and will be removed in 1.0. Use :meth:`~invoke` instead.\n",
      "  response = qa_chain(query)[\"result\"]\n",
      "OllamaEmbeddings: 100%|██████████| 1/1 [00:03<00:00,  3.17s/it]\n"
     ]
    }
   ],
   "source": [
    "query = \"What is the greenhouse effect?\"\n",
    "\n",
    "# Get response from RAG system\n",
    "response = qa_chain(query)[\"result\"]"
   ]
  },
  {
   "cell_type": "code",
   "execution_count": 17,
   "metadata": {},
   "outputs": [
    {
     "data": {
      "text/plain": [
       "'The greenhouse effect is a natural process where greenhouse gases, such as carbon dioxide (CO2), methane (CH4), and nitrous oxide (N2O), trap heat from the sun, keeping the planet warm enough to support life. This effect is essential for life on Earth. However, human activities have intensified this natural process, leading to a warmer climate.'"
      ]
     },
     "execution_count": 17,
     "metadata": {},
     "output_type": "execute_result"
    }
   ],
   "source": [
    "response"
   ]
  },
  {
   "cell_type": "code",
   "execution_count": 18,
   "metadata": {},
   "outputs": [],
   "source": [
    "relevance = 5\n",
    "quality = 5\n",
    "\n",
    "# Collect feedback\n",
    "feedback = get_user_feedback(query, response, relevance, quality)"
   ]
  },
  {
   "cell_type": "code",
   "execution_count": 19,
   "metadata": {},
   "outputs": [
    {
     "data": {
      "text/plain": [
       "{'query': 'What is the greenhouse effect?',\n",
       " 'response': 'The greenhouse effect is a natural process where greenhouse gases, such as carbon dioxide (CO2), methane (CH4), and nitrous oxide (N2O), trap heat from the sun, keeping the planet warm enough to support life. This effect is essential for life on Earth. However, human activities have intensified this natural process, leading to a warmer climate.',\n",
       " 'relevance': 5,\n",
       " 'quality': 5,\n",
       " 'comments': ''}"
      ]
     },
     "execution_count": 19,
     "metadata": {},
     "output_type": "execute_result"
    }
   ],
   "source": [
    "feedback"
   ]
  },
  {
   "cell_type": "code",
   "execution_count": 20,
   "metadata": {},
   "outputs": [],
   "source": [
    "store_feedback(feedback)"
   ]
  },
  {
   "cell_type": "code",
   "execution_count": 21,
   "metadata": {},
   "outputs": [
    {
     "name": "stderr",
     "output_type": "stream",
     "text": [
      "/var/folders/p1/2pgfb5b50c343r108b91w7f80000gn/T/ipykernel_59404/2514198110.py:1: LangChainDeprecationWarning: The method `BaseRetriever.get_relevant_documents` was deprecated in langchain-core 0.1.46 and will be removed in 1.0. Use :meth:`~invoke` instead.\n",
      "  docs = retriever.get_relevant_documents(query)\n",
      "OllamaEmbeddings: 100%|██████████| 1/1 [00:01<00:00,  1.23s/it]\n"
     ]
    }
   ],
   "source": [
    "docs = retriever.get_relevant_documents(query)"
   ]
  },
  {
   "cell_type": "code",
   "execution_count": 22,
   "metadata": {},
   "outputs": [
    {
     "data": {
      "text/plain": [
       "[Document(metadata={'relevance_score': 1.0}, page_content='The use of synthetic fertilizers in agriculture releases nitrous oxide, a potent greenhouse gas. \\nPractices such as precision farming and organic fertilizers can mitigate these emissions. The \\ndevelopment of eco -friendly fertilizers and farming techniques is  essential for reducing the \\nagricultural sector\\'s carbon footprint.  \\nChapter 3: Effects of Climate Change  \\nThe effects of climate change are already being felt around the world and are projected to \\nintensify in the coming decades. These effects include:  \\nRising Temperatures  \\nGlobal temperatures have risen by about 1.2 degrees Celsius (2.2 degrees Fahrenheit) since \\nthe late 19th century. This warming is not uniform, with some regions experiencing more \\nsignificant increases than others.  \\nHeatwaves  \\nHeatwaves are becoming more frequent and severe, posing risks to human health, agriculture, \\nand infrastructure. Cities are particularly vulnerable due to the \"urban heat island\" effect.'),\n",
       " Document(metadata={'relevance_score': 1.0}, page_content='driven by human activities, particularly the emission of greenhou se gases.  \\nChapter 2: Causes of Climate Change  \\nGreenhouse Gases  \\nThe primary cause of recent climate change is the increase in greenhouse gases in the \\natmosphere. Greenhouse gases, such as carbon dioxide (CO2), methane (CH4), and nitrous \\noxide (N2O), trap heat from the sun, creating a \"greenhouse effect.\" This effect is  essential \\nfor life on Earth, as it keeps the planet warm enough to support life. However, human \\nactivities have intensified this natural process, leading to a warmer climate.  \\nFossil Fuels  \\nBurning fossil fuels for energy releases large amounts of CO2. This includes coal, oil, and \\nnatural gas used for electricity, heating, and transportation. The industrial revolution marked \\nthe beginning of a significant increase in fossil fuel consumption, which continues to rise \\ntoday.  \\nCoal  \\nCoal is the most carbon -intensive fossil fuel, and its use for electricity generation is a major'),\n",
       " Document(metadata={'relevance_score': 1.0}, page_content=\"Most of these climate changes are attributed to very small variations in Earth's orbit that \\nchange the amount of solar energy our planet receives. During the Holocene epoch, which \\nbegan at the end of the last ice age, human societies f lourished, but the industrial era has seen \\nunprecedented changes.  \\nModern Observations  \\nModern scientific observations indicate a rapid increase in global temperatures, sea levels, \\nand extreme weather events. The Intergovernmental Panel on Climate Change (IPCC) has \\ndocumented these changes extensively. Ice core samples, tree rings, and ocean sediments \\nprovide a historical record that scientists use to understand past climate conditions and \\npredict future trends. The evidence overwhelmingly shows that recent changes are primarily \\ndriven by human activities, particularly the emission of greenhou se gases.  \\nChapter 2: Causes of Climate Change  \\nGreenhouse Gases\"),\n",
       " Document(metadata={'relevance_score': 1.0}, page_content='paddies, and the use of synthetic fertilizers. Methane is a potent greenhouse gas with a much \\nhigher heat -trapping capability than CO2, albeit in smaller quantities.  \\nLivestock Emissions  \\nRuminant animals, such as cows and sheep, produce methane during digestion. Manure \\nmanagement practices also contribute to methane and nitrous oxide emissions. Innovations in \\nlivestock feeding and waste management can help mitigate these emissions.  \\nRice Cultivation  \\nFlooded rice paddies create anaerobic conditions that lead to methane production. Improved \\nwater management and rice varieties can help reduce these emissions. Research into \\nsustainable rice farming practices is crucial for balancing food security and clim ate goals.  \\nFertilizers  \\nThe use of synthetic fertilizers in agriculture releases nitrous oxide, a potent greenhouse gas. \\nPractices such as precision farming and organic fertilizers can mitigate these emissions. The')]"
      ]
     },
     "execution_count": 22,
     "metadata": {},
     "output_type": "execute_result"
    }
   ],
   "source": [
    "docs"
   ]
  },
  {
   "cell_type": "code",
   "execution_count": 24,
   "metadata": {},
   "outputs": [],
   "source": [
    "adjusted_docs = adjust_relevance_scores(query, docs, load_feedback_data())"
   ]
  },
  {
   "cell_type": "code",
   "execution_count": 25,
   "metadata": {},
   "outputs": [
    {
     "data": {
      "text/plain": [
       "[Document(metadata={'relevance_score': 1.0}, page_content='The use of synthetic fertilizers in agriculture releases nitrous oxide, a potent greenhouse gas. \\nPractices such as precision farming and organic fertilizers can mitigate these emissions. The \\ndevelopment of eco -friendly fertilizers and farming techniques is  essential for reducing the \\nagricultural sector\\'s carbon footprint.  \\nChapter 3: Effects of Climate Change  \\nThe effects of climate change are already being felt around the world and are projected to \\nintensify in the coming decades. These effects include:  \\nRising Temperatures  \\nGlobal temperatures have risen by about 1.2 degrees Celsius (2.2 degrees Fahrenheit) since \\nthe late 19th century. This warming is not uniform, with some regions experiencing more \\nsignificant increases than others.  \\nHeatwaves  \\nHeatwaves are becoming more frequent and severe, posing risks to human health, agriculture, \\nand infrastructure. Cities are particularly vulnerable due to the \"urban heat island\" effect.'),\n",
       " Document(metadata={'relevance_score': 1.0}, page_content='driven by human activities, particularly the emission of greenhou se gases.  \\nChapter 2: Causes of Climate Change  \\nGreenhouse Gases  \\nThe primary cause of recent climate change is the increase in greenhouse gases in the \\natmosphere. Greenhouse gases, such as carbon dioxide (CO2), methane (CH4), and nitrous \\noxide (N2O), trap heat from the sun, creating a \"greenhouse effect.\" This effect is  essential \\nfor life on Earth, as it keeps the planet warm enough to support life. However, human \\nactivities have intensified this natural process, leading to a warmer climate.  \\nFossil Fuels  \\nBurning fossil fuels for energy releases large amounts of CO2. This includes coal, oil, and \\nnatural gas used for electricity, heating, and transportation. The industrial revolution marked \\nthe beginning of a significant increase in fossil fuel consumption, which continues to rise \\ntoday.  \\nCoal  \\nCoal is the most carbon -intensive fossil fuel, and its use for electricity generation is a major'),\n",
       " Document(metadata={'relevance_score': 1.0}, page_content=\"Most of these climate changes are attributed to very small variations in Earth's orbit that \\nchange the amount of solar energy our planet receives. During the Holocene epoch, which \\nbegan at the end of the last ice age, human societies f lourished, but the industrial era has seen \\nunprecedented changes.  \\nModern Observations  \\nModern scientific observations indicate a rapid increase in global temperatures, sea levels, \\nand extreme weather events. The Intergovernmental Panel on Climate Change (IPCC) has \\ndocumented these changes extensively. Ice core samples, tree rings, and ocean sediments \\nprovide a historical record that scientists use to understand past climate conditions and \\npredict future trends. The evidence overwhelmingly shows that recent changes are primarily \\ndriven by human activities, particularly the emission of greenhou se gases.  \\nChapter 2: Causes of Climate Change  \\nGreenhouse Gases\"),\n",
       " Document(metadata={'relevance_score': 1.0}, page_content='paddies, and the use of synthetic fertilizers. Methane is a potent greenhouse gas with a much \\nhigher heat -trapping capability than CO2, albeit in smaller quantities.  \\nLivestock Emissions  \\nRuminant animals, such as cows and sheep, produce methane during digestion. Manure \\nmanagement practices also contribute to methane and nitrous oxide emissions. Innovations in \\nlivestock feeding and waste management can help mitigate these emissions.  \\nRice Cultivation  \\nFlooded rice paddies create anaerobic conditions that lead to methane production. Improved \\nwater management and rice varieties can help reduce these emissions. Research into \\nsustainable rice farming practices is crucial for balancing food security and clim ate goals.  \\nFertilizers  \\nThe use of synthetic fertilizers in agriculture releases nitrous oxide, a potent greenhouse gas. \\nPractices such as precision farming and organic fertilizers can mitigate these emissions. The')]"
      ]
     },
     "execution_count": 25,
     "metadata": {},
     "output_type": "execute_result"
    }
   ],
   "source": [
    "adjusted_docs"
   ]
  },
  {
   "cell_type": "code",
   "execution_count": 26,
   "metadata": {},
   "outputs": [
    {
     "name": "stderr",
     "output_type": "stream",
     "text": [
      "OllamaEmbeddings: 100%|██████████| 94/94 [01:36<00:00,  1.03s/it]\n"
     ]
    },
    {
     "data": {
      "text/plain": [
       "<langchain_community.vectorstores.faiss.FAISS at 0x119ffc550>"
      ]
     },
     "execution_count": 26,
     "metadata": {},
     "output_type": "execute_result"
    }
   ],
   "source": [
    "new_vectorstore = fine_tune_index(load_feedback_data(), content)\n",
    "new_vectorstore"
   ]
  },
  {
   "cell_type": "code",
   "execution_count": 27,
   "metadata": {},
   "outputs": [],
   "source": [
    "retriever = new_vectorstore.as_retriever()"
   ]
  },
  {
   "cell_type": "code",
   "execution_count": null,
   "metadata": {},
   "outputs": [],
   "source": [
    "llm = ChatGroq(model=\"llama-3.3-70b-versatile\", temperature=0, max_tokens=4000,api_key='')"
   ]
  },
  {
   "cell_type": "code",
   "execution_count": 29,
   "metadata": {},
   "outputs": [],
   "source": [
    "qa_chain = RetrievalQA.from_chain_type(llm, retriever=retriever)"
   ]
  },
  {
   "cell_type": "code",
   "execution_count": 30,
   "metadata": {},
   "outputs": [
    {
     "name": "stderr",
     "output_type": "stream",
     "text": [
      "OllamaEmbeddings: 100%|██████████| 1/1 [00:00<00:00,  3.97it/s]\n"
     ]
    }
   ],
   "source": [
    "query = \"What are reasons of greenhouse effects?\"\n",
    "\n",
    "# Get response from RAG system\n",
    "response = qa_chain(query)[\"result\"]"
   ]
  },
  {
   "cell_type": "code",
   "execution_count": 31,
   "metadata": {},
   "outputs": [
    {
     "data": {
      "text/plain": [
       "'The reasons for the intensified greenhouse effect are primarily driven by human activities, particularly the emission of greenhouse gases. Some of the main reasons include:\\n\\n1. Burning fossil fuels (such as coal, oil, and natural gas) for energy, which releases large amounts of carbon dioxide (CO2).\\n2. The use of synthetic fertilizers in agriculture, which releases nitrous oxide (N2O), a potent greenhouse gas.\\n3. Industrial activities and transportation, which also release greenhouse gases.\\n\\nThese human activities have intensified the natural greenhouse effect, leading to a warmer climate.'"
      ]
     },
     "execution_count": 31,
     "metadata": {},
     "output_type": "execute_result"
    }
   ],
   "source": [
    "response"
   ]
  }
 ],
 "metadata": {
  "kernelspec": {
   "display_name": ".venv",
   "language": "python",
   "name": "python3"
  },
  "language_info": {
   "codemirror_mode": {
    "name": "ipython",
    "version": 3
   },
   "file_extension": ".py",
   "mimetype": "text/x-python",
   "name": "python",
   "nbconvert_exporter": "python",
   "pygments_lexer": "ipython3",
   "version": "3.13.1"
  }
 },
 "nbformat": 4,
 "nbformat_minor": 2
}
