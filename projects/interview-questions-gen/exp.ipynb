{
 "cells": [
  {
   "cell_type": "code",
   "execution_count": 55,
   "metadata": {},
   "outputs": [],
   "source": [
    "from langchain.document_loaders import PyPDFLoader\n",
    "from langchain.docstore.document import Document\n",
    "from langchain.prompts import PromptTemplate"
   ]
  },
  {
   "cell_type": "code",
   "execution_count": 56,
   "metadata": {},
   "outputs": [],
   "source": [
    "file_path = 'data/stats.pdf'\n",
    "loader = PyPDFLoader(file_path)\n",
    "data = loader.load()"
   ]
  },
  {
   "cell_type": "code",
   "execution_count": 57,
   "metadata": {},
   "outputs": [],
   "source": [
    "question_gen = \"\"\n",
    "for page in data:\n",
    "    question_gen += page.page_content"
   ]
  },
  {
   "cell_type": "code",
   "execution_count": 58,
   "metadata": {},
   "outputs": [],
   "source": [
    "from langchain_community.llms import Ollama\n",
    "from langchain.text_splitter import RecursiveCharacterTextSplitter"
   ]
  },
  {
   "cell_type": "code",
   "execution_count": 98,
   "metadata": {},
   "outputs": [],
   "source": [
    "llm = Ollama(\n",
    "    model=\"llama3.2\", \n",
    "    base_url=\"http://127.0.0.1:11434\",\n",
    "    temperature=0.3,\n",
    "    num_predict=2000,\n",
    "    top_p=0.9,\n",
    "    repeat_penalty=1.1\n",
    ")"
   ]
  },
  {
   "cell_type": "code",
   "execution_count": 99,
   "metadata": {},
   "outputs": [],
   "source": [
    "splitter_ques_gen = RecursiveCharacterTextSplitter(\n",
    "    chunk_size=10000,\n",
    "    chunk_overlap=200,\n",
    "    separators=[\"\\n\\n\", \"\\n\", \" \", \"\"]\n",
    ")"
   ]
  },
  {
   "cell_type": "code",
   "execution_count": 100,
   "metadata": {},
   "outputs": [],
   "source": [
    "chunk_ques_gen = splitter_ques_gen.split_text(question_gen)"
   ]
  },
  {
   "cell_type": "code",
   "execution_count": 101,
   "metadata": {},
   "outputs": [],
   "source": [
    "from langchain.docstore.document import Document"
   ]
  },
  {
   "cell_type": "code",
   "execution_count": 102,
   "metadata": {},
   "outputs": [],
   "source": [
    "document_ques_gen = [Document(page_content = t) for t in chunk_ques_gen]"
   ]
  },
  {
   "cell_type": "code",
   "execution_count": 103,
   "metadata": {},
   "outputs": [
    {
     "data": {
      "text/plain": [
       "[Document(metadata={}, page_content='ImportanceandtheuseofcorrelationinStatistics\\nIntroduction\\nCorrelationisastatistical measurethat expressestheextent towhichtwovariablesarelinearlyrelated. It isacommontool fordescribingsimplerelationshipswithout makingastatement about causeandeffect.Correlationcoefficientsrangefrom-1to1, withavalueof 0indicatingnolinearrelationshipbetweenthetwovariables, avalueof 1indicatingaperfect positivelinearrelationship, andavalueof -1indicatingaperfectnegativelinearrelationship.\\nCorrelationisimportantinstatisticsbecauseitcanbeusedto\\n1. Identifyrelationshipsbetweenvariables:Correlationcanbeusedtoidentifywhetherthereisarelationshipbetweentwovariables, andif so, whethertherelationshipispositiveornegative. Thisinformationcanbeuseful forunderstandingtherelationshipsbetweendifferent factorsinacomplexsystem.\\n2. Makepredictions:If thereisastrongcorrelationbetweentwovariables, it ispossibletousethevalueof onevariabletopredictthevalueof theothervariable. Thiscanbeuseful formakingpredictionsinavarietyof fields, suchasbusiness, finance, andmedicine.\\n3. Developcausalmodels:Correlationcanbeusedasastartingpoint fordevelopingcausal models, whicharemodelsthatdescribehowchangesinonevariablecausechangesinothervariables. Causal modelscanbeusedtomakemoreaccuratepredictionsandtodevelopinterventionstochangethevaluesofspecificvariables.Correlationisusedinawidevarietyoffieldsincluding\\n1. Business:Correlationcanbeusedtoidentifyrelationshipsbetweendifferent businessvariables, suchassales, advertisingspending, andcustomersatisfaction. Thisinformationcanbeusedtomakebetterbusinessdecisions, suchashowtoallocatemarketingresources.\\n2. Finance:Correlationcanbeusedtoidentifyrelationshipsbetweendifferent financial assets, suchasstocks, bonds, andcommodities.Thisinformationcanbeusedtobuilddiversifiedportfoliosthatreducerisk.\\n3. Medicine:Correlationcanbeusedtoidentifyrelationshipsbetweendifferent medical variables, suchasriskfactorsfordiseasesandtheeffectivenessof treatments. Thisinformationcanbeusedtoimprovetheprevention, diagnosis, andtreatment ofdiseases.\\n4. Psychology:Correlationcanbeusedtoidentifyrelationshipsbetweendifferent psychological variables, suchaspersonalitytraits, cognitiveabilities, andmental disorders. Thisinformationcanbeusedtodevelopbetterpsychological assessmentsandtreatments.\\nHowcorrelationisusedintherealworld\\n1. Amarketingmanagermight usecorrelationtoidentifytherelationshipbetweenadvertisingspendingandsales. Thisinformationcouldbeusedtodecidehowmuchmoneytoallocatetoadvertising.\\n2. Afinancial analyst might usecorrelationtoidentifytherelationshipbetweenthereturnsof different stocks. Thisinformationcouldbeusedtobuildaportfolioof stocksthat isdiversifiedandhasaloweroverall risk.\\n3. Amedical researchermight usecorrelationtoidentifytherelationshipbetweensmokingandlungcancer. Thisinformationcouldbeusedtodeveloppublichealthcampaignstodiscouragesmoking.\\n4. Apsychologist might usecorrelationtoidentifytherelationshipbetweenanxietyanddepression. Thisinformationcouldbeusedtodevelopmoreeffectivetreatmentsforanxietyanddepression.\\nConclusion\\nItisimportanttonotethatcorrelationdoesnotequalcausation.Justbecausetwovariablesarecorrelateddoesnotmeanthatonevariablecausestheother. Forexample,thereisastrongcorrelationbetweenicecreamsalesandsharkattacks.However, thisdoesnotmeanthateatingicecreamcausessharkattacks.Instead,thereislikelyathirdvariable,suchashotweather, thatcausesbothicecreamsalesandsharkattackstoincrease.\\nOverall,correlationisapowerfulstatisticaltoolthatcanbeusedtoidentifyrelationshipsbetweenvariables,makepredictions,anddevelopcausalmodels.Itisusedinawidevarietyoffieldstomakebetterdecisionsandimproveoutcomes.')]"
      ]
     },
     "execution_count": 103,
     "metadata": {},
     "output_type": "execute_result"
    }
   ],
   "source": [
    "document_ques_gen"
   ]
  },
  {
   "cell_type": "code",
   "execution_count": 104,
   "metadata": {},
   "outputs": [
    {
     "data": {
      "text/plain": [
       "langchain_core.documents.base.Document"
      ]
     },
     "execution_count": 104,
     "metadata": {},
     "output_type": "execute_result"
    }
   ],
   "source": [
    "type(document_ques_gen[0])"
   ]
  },
  {
   "cell_type": "code",
   "execution_count": 105,
   "metadata": {},
   "outputs": [],
   "source": [
    "prompt_template = \"\"\"\n",
    "You are an expert at creating questions based on statistics materials and documentation.\n",
    "Your goal is to prepare a coder or programmer for their exam and statistics tests.\n",
    "You do this by asking questions about the text below:\n",
    "\n",
    "------------\n",
    "{text}\n",
    "------------\n",
    "\n",
    "Create questions that will prepare the coders or programmers for their tests.\n",
    "Make sure not to lose any important information.\n",
    "\n",
    "QUESTIONS:\n",
    "\"\"\""
   ]
  },
  {
   "cell_type": "code",
   "execution_count": 106,
   "metadata": {},
   "outputs": [],
   "source": [
    "PROMPT_QUESTIONS = PromptTemplate(template=prompt_template, input_variables=['text'])"
   ]
  },
  {
   "cell_type": "code",
   "execution_count": 107,
   "metadata": {},
   "outputs": [],
   "source": [
    "refine_template = (\"\"\"\n",
    "You are an expert at creating practice questions based on statistics material and documentation.\n",
    "Your goal is to help a coder or programmer prepare for a statistics test.\n",
    "We have received some practice questions to a certain extent: {existing_answer}.\n",
    "We have the option to refine the existing questions or add new ones.\n",
    "(only if necessary) with some more context below.\n",
    "------------\n",
    "{text}\n",
    "------------\n",
    "\n",
    "Given the new context, refine the original questions in English.\n",
    "If the context is not helpful, please provide the original questions.\n",
    "QUESTIONS:\n",
    "\"\"\"\n",
    ")"
   ]
  },
  {
   "cell_type": "code",
   "execution_count": 108,
   "metadata": {},
   "outputs": [],
   "source": [
    "REFINE_PROMPT_QUESTIONS = PromptTemplate(\n",
    "    input_variables=[\"existing_answer\", \"text\"],\n",
    "    template=refine_template,\n",
    ")"
   ]
  },
  {
   "cell_type": "code",
   "execution_count": 109,
   "metadata": {},
   "outputs": [],
   "source": [
    "from langchain.chains.summarize import load_summarize_chain"
   ]
  },
  {
   "cell_type": "code",
   "execution_count": 110,
   "metadata": {},
   "outputs": [],
   "source": [
    "ques_gen_chain = load_summarize_chain(llm = llm, \n",
    "                                          chain_type = \"refine\", \n",
    "                                          verbose = True, \n",
    "                                          question_prompt=PROMPT_QUESTIONS, \n",
    "                                          refine_prompt=REFINE_PROMPT_QUESTIONS)"
   ]
  },
  {
   "cell_type": "code",
   "execution_count": 111,
   "metadata": {},
   "outputs": [
    {
     "name": "stdout",
     "output_type": "stream",
     "text": [
      "\n",
      "\n",
      "\u001b[1m> Entering new RefineDocumentsChain chain...\u001b[0m\n",
      "\n",
      "\n",
      "\u001b[1m> Entering new LLMChain chain...\u001b[0m\n",
      "Prompt after formatting:\n",
      "\u001b[32;1m\u001b[1;3m\n",
      "You are an expert at creating questions based on statistics materials and documentation.\n",
      "Your goal is to prepare a coder or programmer for their exam and statistics tests.\n",
      "You do this by asking questions about the text below:\n",
      "\n",
      "------------\n",
      "ImportanceandtheuseofcorrelationinStatistics\n",
      "Introduction\n",
      "Correlationisastatistical measurethat expressestheextent towhichtwovariablesarelinearlyrelated. It isacommontool fordescribingsimplerelationshipswithout makingastatement about causeandeffect.Correlationcoefficientsrangefrom-1to1, withavalueof 0indicatingnolinearrelationshipbetweenthetwovariables, avalueof 1indicatingaperfect positivelinearrelationship, andavalueof -1indicatingaperfectnegativelinearrelationship.\n",
      "Correlationisimportantinstatisticsbecauseitcanbeusedto\n",
      "1. Identifyrelationshipsbetweenvariables:Correlationcanbeusedtoidentifywhetherthereisarelationshipbetweentwovariables, andif so, whethertherelationshipispositiveornegative. Thisinformationcanbeuseful forunderstandingtherelationshipsbetweendifferent factorsinacomplexsystem.\n",
      "2. Makepredictions:If thereisastrongcorrelationbetweentwovariables, it ispossibletousethevalueof onevariabletopredictthevalueof theothervariable. Thiscanbeuseful formakingpredictionsinavarietyof fields, suchasbusiness, finance, andmedicine.\n",
      "3. Developcausalmodels:Correlationcanbeusedasastartingpoint fordevelopingcausal models, whicharemodelsthatdescribehowchangesinonevariablecausechangesinothervariables. Causal modelscanbeusedtomakemoreaccuratepredictionsandtodevelopinterventionstochangethevaluesofspecificvariables.Correlationisusedinawidevarietyoffieldsincluding\n",
      "1. Business:Correlationcanbeusedtoidentifyrelationshipsbetweendifferent businessvariables, suchassales, advertisingspending, andcustomersatisfaction. Thisinformationcanbeusedtomakebetterbusinessdecisions, suchashowtoallocatemarketingresources.\n",
      "2. Finance:Correlationcanbeusedtoidentifyrelationshipsbetweendifferent financial assets, suchasstocks, bonds, andcommodities.Thisinformationcanbeusedtobuilddiversifiedportfoliosthatreducerisk.\n",
      "3. Medicine:Correlationcanbeusedtoidentifyrelationshipsbetweendifferent medical variables, suchasriskfactorsfordiseasesandtheeffectivenessof treatments. Thisinformationcanbeusedtoimprovetheprevention, diagnosis, andtreatment ofdiseases.\n",
      "4. Psychology:Correlationcanbeusedtoidentifyrelationshipsbetweendifferent psychological variables, suchaspersonalitytraits, cognitiveabilities, andmental disorders. Thisinformationcanbeusedtodevelopbetterpsychological assessmentsandtreatments.\n",
      "Howcorrelationisusedintherealworld\n",
      "1. Amarketingmanagermight usecorrelationtoidentifytherelationshipbetweenadvertisingspendingandsales. Thisinformationcouldbeusedtodecidehowmuchmoneytoallocatetoadvertising.\n",
      "2. Afinancial analyst might usecorrelationtoidentifytherelationshipbetweenthereturnsof different stocks. Thisinformationcouldbeusedtobuildaportfolioof stocksthat isdiversifiedandhasaloweroverall risk.\n",
      "3. Amedical researchermight usecorrelationtoidentifytherelationshipbetweensmokingandlungcancer. Thisinformationcouldbeusedtodeveloppublichealthcampaignstodiscouragesmoking.\n",
      "4. Apsychologist might usecorrelationtoidentifytherelationshipbetweenanxietyanddepression. Thisinformationcouldbeusedtodevelopmoreeffectivetreatmentsforanxietyanddepression.\n",
      "Conclusion\n",
      "Itisimportanttonotethatcorrelationdoesnotequalcausation.Justbecausetwovariablesarecorrelateddoesnotmeanthatonevariablecausestheother. Forexample,thereisastrongcorrelationbetweenicecreamsalesandsharkattacks.However, thisdoesnotmeanthateatingicecreamcausessharkattacks.Instead,thereislikelyathirdvariable,suchashotweather, thatcausesbothicecreamsalesandsharkattackstoincrease.\n",
      "Overall,correlationisapowerfulstatisticaltoolthatcanbeusedtoidentifyrelationshipsbetweenvariables,makepredictions,anddevelopcausalmodels.Itisusedinawidevarietyoffieldstomakebetterdecisionsandimproveoutcomes.\n",
      "------------\n",
      "\n",
      "Create questions that will prepare the coders or programmers for their tests.\n",
      "Make sure not to lose any important information.\n",
      "\n",
      "QUESTIONS:\n",
      "\u001b[0m\n",
      "\n",
      "\u001b[1m> Finished chain.\u001b[0m\n",
      "\n",
      "\u001b[1m> Finished chain.\u001b[0m\n",
      "Here are some questions based on the provided text:\n",
      "\n",
      "**Section 1: Understanding Correlation**\n",
      "\n",
      "1. What is correlation in statistics, and what does it measure?\n",
      "2. How do you interpret a correlation coefficient value of -1, 0, or 1?\n",
      "3. Can you give an example of how correlation can be used to identify a relationship between variables?\n",
      "\n",
      "**Section 2: Importance of Correlation**\n",
      "\n",
      "4. Why is correlation important in statistics? Provide at least two reasons.\n",
      "5. How does correlation help in making predictions in different fields (e.g., business, finance, medicine)?\n",
      "6. Can you think of an example where correlation can be used to develop causal models?\n",
      "\n",
      "**Section 3: Real-World Applications**\n",
      "\n",
      "7. A company wants to allocate marketing resources based on the relationship between advertising spending and sales. How would they use correlation in this scenario?\n",
      "8. A financial analyst wants to build a diversified portfolio of stocks with lower overall risk. How would they use correlation in this scenario?\n",
      "9. A medical researcher wants to develop public health campaigns to discourage smoking. How would they use correlation in this scenario?\n",
      "\n",
      "**Section 4: Limitations and Causation**\n",
      "\n",
      "10. What is the difference between correlation and causation? Provide an example where correlation does not imply causation.\n",
      "11. Can you explain why a strong correlation between ice cream sales and shark attacks does not mean that eating ice cream causes shark attacks?\n",
      "12. How can correlation be used in conjunction with other statistical methods to establish causality?\n",
      "\n",
      "**Section 5: Additional Questions**\n",
      "\n",
      "13. What are some common fields where correlation is widely used? Provide at least two examples.\n",
      "14. Can you think of a scenario where correlation would not be useful (e.g., predicting the weather)?\n",
      "15. How does correlation relate to other statistical concepts, such as regression and hypothesis testing?\n",
      "\n",
      "These questions cover various aspects of correlation and its applications in different fields, as well as its limitations and importance in statistics.\n"
     ]
    }
   ],
   "source": [
    "ques = ques_gen_chain.run(document_ques_gen)\n",
    "\n",
    "print(ques)"
   ]
  },
  {
   "cell_type": "code",
   "execution_count": 112,
   "metadata": {},
   "outputs": [
    {
     "name": "stdout",
     "output_type": "stream",
     "text": [
      "Here are some questions based on the provided text:\n",
      "\n",
      "**Section 1: Understanding Correlation**\n",
      "\n",
      "1. What is correlation in statistics, and what does it measure?\n",
      "2. How do you interpret a correlation coefficient value of -1, 0, or 1?\n",
      "3. Can you give an example of how correlation can be used to identify a relationship between variables?\n",
      "\n",
      "**Section 2: Importance of Correlation**\n",
      "\n",
      "4. Why is correlation important in statistics? Provide at least two reasons.\n",
      "5. How does correlation help in making predictions in different fields (e.g., business, finance, medicine)?\n",
      "6. Can you think of an example where correlation can be used to develop causal models?\n",
      "\n",
      "**Section 3: Real-World Applications**\n",
      "\n",
      "7. A company wants to allocate marketing resources based on the relationship between advertising spending and sales. How would they use correlation in this scenario?\n",
      "8. A financial analyst wants to build a diversified portfolio of stocks with lower overall risk. How would they use correlation in this scenario?\n",
      "9. A medical researcher wants to develop public health campaigns to discourage smoking. How would they use correlation in this scenario?\n",
      "\n",
      "**Section 4: Limitations and Causation**\n",
      "\n",
      "10. What is the difference between correlation and causation? Provide an example where correlation does not imply causation.\n",
      "11. Can you explain why a strong correlation between ice cream sales and shark attacks does not mean that eating ice cream causes shark attacks?\n",
      "12. How can correlation be used in conjunction with other statistical methods to establish causality?\n",
      "\n",
      "**Section 5: Additional Questions**\n",
      "\n",
      "13. What are some common fields where correlation is widely used? Provide at least two examples.\n",
      "14. Can you think of a scenario where correlation would not be useful (e.g., predicting the weather)?\n",
      "15. How does correlation relate to other statistical concepts, such as regression and hypothesis testing?\n",
      "\n",
      "These questions cover various aspects of correlation and its applications in different fields, as well as its limitations and importance in statistics.\n"
     ]
    }
   ],
   "source": [
    "print(ques)"
   ]
  },
  {
   "cell_type": "code",
   "execution_count": 114,
   "metadata": {},
   "outputs": [],
   "source": [
    "from langchain_community.embeddings import OllamaEmbeddings\n",
    "embeddings = OllamaEmbeddings(\n",
    "    model=\"nomic-embed-text\",\n",
    "    base_url=\"http://localhost:11434\"\n",
    ")"
   ]
  },
  {
   "cell_type": "code",
   "execution_count": 115,
   "metadata": {},
   "outputs": [],
   "source": [
    "from langchain.vectorstores import FAISS"
   ]
  },
  {
   "cell_type": "code",
   "execution_count": 116,
   "metadata": {},
   "outputs": [],
   "source": [
    "vector_store = FAISS.from_documents(document_ques_gen, embeddings)\n"
   ]
  },
  {
   "cell_type": "code",
   "execution_count": 117,
   "metadata": {},
   "outputs": [
    {
     "data": {
      "text/plain": [
       "<langchain_community.vectorstores.faiss.FAISS at 0x125c6f750>"
      ]
     },
     "execution_count": 117,
     "metadata": {},
     "output_type": "execute_result"
    }
   ],
   "source": [
    "vector_store"
   ]
  },
  {
   "cell_type": "code",
   "execution_count": 118,
   "metadata": {},
   "outputs": [
    {
     "data": {
      "text/plain": [
       "'Here are some questions based on the provided text:\\n\\n**Section 1: Understanding Correlation**\\n\\n1. What is correlation in statistics, and what does it measure?\\n2. How do you interpret a correlation coefficient value of -1, 0, or 1?\\n3. Can you give an example of how correlation can be used to identify a relationship between variables?\\n\\n**Section 2: Importance of Correlation**\\n\\n4. Why is correlation important in statistics? Provide at least two reasons.\\n5. How does correlation help in making predictions in different fields (e.g., business, finance, medicine)?\\n6. Can you think of an example where correlation can be used to develop causal models?\\n\\n**Section 3: Real-World Applications**\\n\\n7. A company wants to allocate marketing resources based on the relationship between advertising spending and sales. How would they use correlation in this scenario?\\n8. A financial analyst wants to build a diversified portfolio of stocks with lower overall risk. How would they use correlation in this scenario?\\n9. A medical researcher wants to develop public health campaigns to discourage smoking. How would they use correlation in this scenario?\\n\\n**Section 4: Limitations and Causation**\\n\\n10. What is the difference between correlation and causation? Provide an example where correlation does not imply causation.\\n11. Can you explain why a strong correlation between ice cream sales and shark attacks does not mean that eating ice cream causes shark attacks?\\n12. How can correlation be used in conjunction with other statistical methods to establish causality?\\n\\n**Section 5: Additional Questions**\\n\\n13. What are some common fields where correlation is widely used? Provide at least two examples.\\n14. Can you think of a scenario where correlation would not be useful (e.g., predicting the weather)?\\n15. How does correlation relate to other statistical concepts, such as regression and hypothesis testing?\\n\\nThese questions cover various aspects of correlation and its applications in different fields, as well as its limitations and importance in statistics.'"
      ]
     },
     "execution_count": 118,
     "metadata": {},
     "output_type": "execute_result"
    }
   ],
   "source": [
    "ques"
   ]
  },
  {
   "cell_type": "code",
   "execution_count": 119,
   "metadata": {},
   "outputs": [],
   "source": [
    "ques_list = ques.split(\"\\n\")"
   ]
  },
  {
   "cell_type": "code",
   "execution_count": 121,
   "metadata": {},
   "outputs": [],
   "source": [
    "def filter_questions(text_list):\n",
    "    questions = []\n",
    "    for line in text_list:\n",
    "        line = line.strip()\n",
    "        if line.endswith('?'):\n",
    "            questions.append(line)\n",
    "    return questions"
   ]
  },
  {
   "cell_type": "code",
   "execution_count": 123,
   "metadata": {},
   "outputs": [
    {
     "name": "stdout",
     "output_type": "stream",
     "text": [
      "['1. What is correlation in statistics, and what does it measure?', '2. How do you interpret a correlation coefficient value of -1, 0, or 1?', '3. Can you give an example of how correlation can be used to identify a relationship between variables?', '5. How does correlation help in making predictions in different fields (e.g., business, finance, medicine)?', '6. Can you think of an example where correlation can be used to develop causal models?', '7. A company wants to allocate marketing resources based on the relationship between advertising spending and sales. How would they use correlation in this scenario?', '8. A financial analyst wants to build a diversified portfolio of stocks with lower overall risk. How would they use correlation in this scenario?', '9. A medical researcher wants to develop public health campaigns to discourage smoking. How would they use correlation in this scenario?', '11. Can you explain why a strong correlation between ice cream sales and shark attacks does not mean that eating ice cream causes shark attacks?', '12. How can correlation be used in conjunction with other statistical methods to establish causality?', '14. Can you think of a scenario where correlation would not be useful (e.g., predicting the weather)?', '15. How does correlation relate to other statistical concepts, such as regression and hypothesis testing?']\n"
     ]
    }
   ],
   "source": [
    "filtered_questions = filter_questions(ques_list)\n",
    "print(filtered_questions)"
   ]
  },
  {
   "cell_type": "code",
   "execution_count": 124,
   "metadata": {},
   "outputs": [],
   "source": [
    "from langchain.chains import RetrievalQA"
   ]
  },
  {
   "cell_type": "code",
   "execution_count": 125,
   "metadata": {},
   "outputs": [],
   "source": [
    "answer_generation_chain = RetrievalQA.from_chain_type(llm=llm, \n",
    "                                               chain_type=\"stuff\", \n",
    "                                               retriever=vector_store.as_retriever())"
   ]
  },
  {
   "cell_type": "code",
   "execution_count": 127,
   "metadata": {},
   "outputs": [
    {
     "name": "stdout",
     "output_type": "stream",
     "text": [
      "Question:  1. What is correlation in statistics, and what does it measure?\n",
      "Answer:  Correlation in statistics is a statistical measure that expresses the extent to which two variables are linearly related. It measures the strength and direction of the relationship between two variables, with values ranging from -1 to 1. A value of 0 indicates no linear relationship, a value of 1 indicates a perfect positive linear relationship, and a value of -1 indicates a perfect negative linear relationship.\n",
      "--------------------------------------------------\\n\\n\n",
      "Question:  2. How do you interpret a correlation coefficient value of -1, 0, or 1?\n",
      "Answer:  Based on the provided context, here are the interpretations for each correlation coefficient value:\n",
      "\n",
      "* A correlation coefficient value of -1 indicates a perfect negative linear relationship between two variables.\n",
      "* A correlation coefficient value of 0 indicates no linear relationship between two variables.\n",
      "* A correlation coefficient value of 1 indicates a perfect positive linear relationship between two variables.\n",
      "\n",
      "These values range from -1 to 1, with the exact interpretation depending on the direction and strength of the relationship.\n",
      "--------------------------------------------------\\n\\n\n",
      "Question:  3. Can you give an example of how correlation can be used to identify a relationship between variables?\n",
      "Answer:  A classic example is the relationship between ice cream sales and shark attacks, as mentioned in the text. However, this is actually an example of a false positive correlation.\n",
      "\n",
      "A more common and useful example would be the relationship between advertising spending and sales. For instance, a company might use correlation to identify whether there's a strong relationship between their advertising budget and the number of sales they generate. If they find that as advertising spending increases, sales also tend to increase, this could inform their marketing strategy and help them allocate resources more effectively.\n",
      "\n",
      "Another example would be the relationship between temperature and crime rates. Research has shown that in many cities, there is a strong correlation between temperature (hot or cold) and crime rates. For instance, crime rates might be higher during hot summer months due to increased outdoor activities and social gatherings, while being lower during colder winter months when people are more likely to stay indoors.\n",
      "\n",
      "These examples illustrate how correlation can be used to identify relationships between variables in various fields.\n",
      "--------------------------------------------------\\n\\n\n",
      "Question:  5. How does correlation help in making predictions in different fields (e.g., business, finance, medicine)?\n",
      "Answer:  Correlation helps in making predictions by allowing the use of one variable's value to predict the value of another variable if there is a strong correlation between them. This can be useful for making predictions in various fields such as business, finance, and medicine. For example, in business, correlation can be used to identify relationships between different business variables like sales, advertising spending, and customer satisfaction, which can then be used to make predictions about future sales or revenue.\n",
      "\n",
      "In finance, correlation can be used to identify relationships between different financial assets like stocks, bonds, and commodities, which can then be used to build diversified portfolios that reduce risk. In medicine, correlation can be used to identify relationships between different medical variables like risk factors for diseases and the effectiveness of treatments, which can then be used to make predictions about patient outcomes or disease progression.\n",
      "\n",
      "Overall, correlation provides a powerful tool for making predictions by identifying strong relationships between variables, allowing users to make informed decisions and improve outcomes in various fields.\n",
      "--------------------------------------------------\\n\\n\n",
      "Question:  6. Can you think of an example where correlation can be used to develop causal models?\n",
      "Answer:  Yes, a classic example is the relationship between air pollution and lung cancer. Researchers have found a strong positive correlation between exposure to certain pollutants (such as particulate matter) and the incidence of lung cancer. This correlation suggests that there may be a causal link between air pollution and lung cancer, meaning that exposure to pollutants can increase the risk of developing lung cancer.\n",
      "\n",
      "By analyzing this correlation, researchers can develop causal models that describe how changes in air pollution levels affect lung cancer rates. These models can then be used to make predictions about the impact of policy changes or environmental interventions on lung cancer incidence, and to inform strategies for reducing air pollution and improving public health outcomes.\n",
      "--------------------------------------------------\\n\\n\n",
      "Question:  7. A company wants to allocate marketing resources based on the relationship between advertising spending and sales. How would they use correlation in this scenario?\n",
      "Answer:  In this scenario, a company would use correlation to identify the relationship between advertising spending and sales. They would calculate the correlation coefficient between these two variables to determine if there is a linear relationship between them.\n",
      "\n",
      "If the correlation coefficient is positive and statistically significant, it would indicate that as advertising spending increases, sales also tend to increase. This information could be used to make decisions about how much money to allocate to advertising based on expected returns.\n",
      "\n",
      "For example, if the correlation coefficient is 0.8, indicating a strong positive relationship between advertising spending and sales, the company might decide to increase their advertising budget by 10% in order to expect an 8% increase in sales. Conversely, if the correlation coefficient is negative, it would indicate that as advertising spending increases, sales tend to decrease.\n",
      "\n",
      "The company could also use this information to identify potential areas for improvement, such as identifying specific marketing campaigns or channels that are most effective at driving sales growth.\n",
      "--------------------------------------------------\\n\\n\n",
      "Question:  8. A financial analyst wants to build a diversified portfolio of stocks with lower overall risk. How would they use correlation in this scenario?\n",
      "Answer:  A financial analyst would use correlation to identify the relationship between different stocks, such as their returns. By analyzing the correlation coefficient between various stocks, the analyst can determine which stocks are positively or negatively correlated with each other. This information can be used to build a diversified portfolio by selecting stocks that have low positive correlations (i.e., they tend to move in the same direction) and high negative correlations (i.e., they tend to move in opposite directions). By doing so, the analyst can create a portfolio that is less sensitive to market fluctuations and has lower overall risk.\n",
      "--------------------------------------------------\\n\\n\n",
      "Question:  9. A medical researcher wants to develop public health campaigns to discourage smoking. How would they use correlation in this scenario?\n",
      "Answer:  According to the context, a medical researcher might use correlation to identify the relationship between variables such as smoking and lung cancer. This information could be used to develop more effective public health campaigns to discourage smoking.\n",
      "--------------------------------------------------\\n\\n\n",
      "Question:  11. Can you explain why a strong correlation between ice cream sales and shark attacks does not mean that eating ice cream causes shark attacks?\n",
      "Answer:  A strong correlation between ice cream sales and shark attacks suggests that there is likely an underlying third variable, such as weather, that affects both ice cream sales and shark attacks. This means that the relationship between ice cream sales and shark attacks is not causal, but rather coincidental.\n",
      "\n",
      "In other words, if it's hot and sunny outside (i.e., good weather), people are more likely to buy ice cream (increasing ice cream sales) and also go swimming or surfing (increasing the likelihood of shark encounters). As a result, there appears to be a strong correlation between ice cream sales and shark attacks. However, eating ice cream does not directly cause shark attacks; instead, it's the shared influence of good weather that drives both trends.\n",
      "\n",
      "This concept is often referred to as \"third-variable problem\" or \"confounding variable,\" where an apparent relationship between two variables (in this case, ice cream sales and shark attacks) is actually due to a third variable that affects both.\n",
      "--------------------------------------------------\\n\\n\n",
      "Question:  12. How can correlation be used in conjunction with other statistical methods to establish causality?\n",
      "Answer:  I don't know how correlation can be used in conjunction with other statistical methods to establish causality. The text mentions that correlation does not equal causation, and it provides an example of a strong correlation between ice cream sales and shark attacks, but it does not discuss specific methods or techniques for establishing causality using correlation.\n",
      "--------------------------------------------------\\n\\n\n",
      "Question:  14. Can you think of a scenario where correlation would not be useful (e.g., predicting the weather)?\n",
      "Answer:  Yes, I can think of a scenario where correlation might not be very useful. Predicting the weather is a classic example of this. Correlation analysis can help identify relationships between variables, but it cannot accurately predict future events like weather patterns.\n",
      "\n",
      "While correlation can provide insights into historical trends and relationships between atmospheric conditions, temperature, humidity, and other factors that influence the weather, it does not account for complex interactions, non-linear relationships, or chaotic systems that underlie weather forecasting.\n",
      "\n",
      "Weather forecasting relies on more advanced techniques, such as numerical modeling, satellite imaging, radar data, and computer simulations, which can provide more accurate predictions of short-term weather patterns. Correlation analysis is not sufficient to make reliable predictions about the weather, especially for long-term forecasts or events like hurricanes, tornadoes, or blizzards.\n",
      "\n",
      "In contrast, correlation might be useful in analyzing historical trends, identifying seasonal patterns, or understanding relationships between atmospheric conditions and other environmental factors, but it would not provide a reliable means of predicting specific weather events.\n",
      "--------------------------------------------------\\n\\n\n",
      "Question:  15. How does correlation relate to other statistical concepts, such as regression and hypothesis testing?\n",
      "Answer:  I don't know how correlation relates to other statistical concepts, such as regression and hypothesis testing. The provided text discusses the importance and use of correlation in statistics, but it does not explicitly explain its relationship with these specific concepts.\n",
      "--------------------------------------------------\\n\\n\n"
     ]
    }
   ],
   "source": [
    "# Answer each question and save to a file\n",
    "for question in filtered_questions:\n",
    "    print(\"Question: \", question)\n",
    "    answer = answer_generation_chain.run(question)\n",
    "    print(\"Answer: \", answer)\n",
    "    print(\"--------------------------------------------------\\\\n\\\\n\")\n",
    "    # Save answer to file\n",
    "    with open(\"answers.txt\", \"a\") as f:\n",
    "        f.write(\"Question: \" + question + \"\\\\n\")\n",
    "        f.write(\"Answer: \" + answer + \"\\\\n\")\n",
    "        f.write(\"--------------------------------------------------\\\\n\\\\n\")"
   ]
  }
 ],
 "metadata": {
  "kernelspec": {
   "display_name": ".venv",
   "language": "python",
   "name": "python3"
  },
  "language_info": {
   "codemirror_mode": {
    "name": "ipython",
    "version": 3
   },
   "file_extension": ".py",
   "mimetype": "text/x-python",
   "name": "python",
   "nbconvert_exporter": "python",
   "pygments_lexer": "ipython3",
   "version": "3.13.1"
  }
 },
 "nbformat": 4,
 "nbformat_minor": 2
}
