{
 "cells": [
  {
   "cell_type": "code",
   "execution_count": 1,
   "metadata": {},
   "outputs": [],
   "source": [
    "import json\n",
    "\n",
    "def get_current_weather(location: str, unit: str):\n",
    "\t\"\"\"\n",
    "\tGet the current weather in a given location\n",
    "\n",
    "\tlocation (str): The city and state, e.g. Madrid, Barcelona\n",
    "\tunit (str): The unit. It can take two values; \"celsius\", \"fahrenheit\"\n",
    "\t\"\"\"\n",
    "\tif location == \"Madrid\":\n",
    "\t\treturn json.dumps({\"temperature\": 25, \"unit\": unit})\n",
    "\n",
    "\telse:\n",
    "\t\treturn json.dumps({\"temperature\": 58, \"unit\": unit})"
   ]
  },
  {
   "cell_type": "code",
   "execution_count": 2,
   "metadata": {},
   "outputs": [
    {
     "data": {
      "text/plain": [
       "'{\"temperature\": 25, \"unit\": \"celsius\"}'"
      ]
     },
     "execution_count": 2,
     "metadata": {},
     "output_type": "execute_result"
    }
   ],
   "source": [
    "get_current_weather(location=\"Madrid\", unit=\"celsius\")"
   ]
  },
  {
   "cell_type": "code",
   "execution_count": 3,
   "metadata": {},
   "outputs": [],
   "source": [
    "import os\n",
    "import re\n",
    "from groq import Groq\n",
    "\n",
    "MODEL = \"llama3-groq-70b-8192-tool-use-preview\"\n",
    "GROQ_CLIENT = Groq(\n",
    "    api_key=''\n",
    ")"
   ]
  },
  {
   "cell_type": "code",
   "execution_count": 4,
   "metadata": {},
   "outputs": [],
   "source": [
    "# Define the System Prompt as a constant\n",
    "TOOL_SYSTEM_PROMPT = \"\"\"\n",
    "You are a function calling AI model. You are provided with function signatures within <tools></tools> XML tags. \n",
    "You may call one or more functions to assist with the user query. Don't make assumptions about what values to plug \n",
    "into functions. Pay special attention to the properties 'types'. You should use those types as in a Python dict.\n",
    "For each function call return a json object with function name and arguments within <tool_call></tool_call> XML tags as follows:\n",
    "\n",
    "<tool_call>\n",
    "{\"name\": <function-name>,\"arguments\": <args-dict>}\n",
    "</tool_call>\n",
    "\n",
    "Here are the available tools:\n",
    "\n",
    "<tools> {\n",
    "    \"name\": \"get_current_weather\",\n",
    "    \"description\": \"Get the current weather in a given location location (str): The city and state, e.g. Madrid, Barcelona unit (str): The unit. It can take two values; 'celsius', 'fahrenheit'\",\n",
    "    \"parameters\": {\n",
    "        \"properties\": {\n",
    "            \"location\": {\n",
    "                \"type\": \"str\"\n",
    "            },\n",
    "            \"unit\": {\n",
    "                \"type\": \"str\"\n",
    "            }\n",
    "        }\n",
    "    }\n",
    "}\n",
    "</tools>\n",
    "\"\"\""
   ]
  },
  {
   "cell_type": "code",
   "execution_count": 5,
   "metadata": {},
   "outputs": [],
   "source": [
    "tool_chat_history = [\n",
    "    {\n",
    "        \"role\": \"system\",\n",
    "        \"content\": TOOL_SYSTEM_PROMPT\n",
    "    }\n",
    "]\n",
    "agent_chat_history = []\n",
    "\n",
    "user_msg = {\n",
    "    \"role\": \"user\",\n",
    "    \"content\": \"What's the current temperature in Madrid, in Celsius?\"\n",
    "}"
   ]
  },
  {
   "cell_type": "code",
   "execution_count": 6,
   "metadata": {},
   "outputs": [
    {
     "data": {
      "text/plain": [
       "[{'role': 'system',\n",
       "  'content': '\\nYou are a function calling AI model. You are provided with function signatures within <tools></tools> XML tags. \\nYou may call one or more functions to assist with the user query. Don\\'t make assumptions about what values to plug \\ninto functions. Pay special attention to the properties \\'types\\'. You should use those types as in a Python dict.\\nFor each function call return a json object with function name and arguments within <tool_call></tool_call> XML tags as follows:\\n\\n<tool_call>\\n{\"name\": <function-name>,\"arguments\": <args-dict>}\\n</tool_call>\\n\\nHere are the available tools:\\n\\n<tools> {\\n    \"name\": \"get_current_weather\",\\n    \"description\": \"Get the current weather in a given location location (str): The city and state, e.g. Madrid, Barcelona unit (str): The unit. It can take two values; \\'celsius\\', \\'fahrenheit\\'\",\\n    \"parameters\": {\\n        \"properties\": {\\n            \"location\": {\\n                \"type\": \"str\"\\n            },\\n            \"unit\": {\\n                \"type\": \"str\"\\n            }\\n        }\\n    }\\n}\\n</tools>\\n'},\n",
       " {'role': 'user',\n",
       "  'content': \"What's the current temperature in Madrid, in Celsius?\"}]"
      ]
     },
     "execution_count": 6,
     "metadata": {},
     "output_type": "execute_result"
    }
   ],
   "source": [
    "tool_chat_history.append(user_msg)\n",
    "tool_chat_history"
   ]
  },
  {
   "cell_type": "code",
   "execution_count": 7,
   "metadata": {},
   "outputs": [
    {
     "data": {
      "text/plain": [
       "[{'role': 'user',\n",
       "  'content': \"What's the current temperature in Madrid, in Celsius?\"}]"
      ]
     },
     "execution_count": 7,
     "metadata": {},
     "output_type": "execute_result"
    }
   ],
   "source": [
    "agent_chat_history.append(user_msg)\n",
    "agent_chat_history"
   ]
  },
  {
   "cell_type": "code",
   "execution_count": 8,
   "metadata": {},
   "outputs": [
    {
     "name": "stdout",
     "output_type": "stream",
     "text": [
      "<tool_call>\n",
      "{\"id\": 0, \"name\": \"get_current_weather\", \"arguments\": {\"location\": \"Madrid, Spain\", \"unit\": \"celsius\"}}\n",
      "</tool_call>\n"
     ]
    }
   ],
   "source": [
    "output = GROQ_CLIENT.chat.completions.create(\n",
    "    messages=tool_chat_history,\n",
    "    model=MODEL\n",
    ").choices[0].message.content\n",
    "\n",
    "print(output)"
   ]
  },
  {
   "cell_type": "code",
   "execution_count": 9,
   "metadata": {},
   "outputs": [],
   "source": [
    "def parse_tool_call_str(tool_call_str: str):\n",
    "    pattern = r'</?tool_call>'\n",
    "    clean_tags = re.sub(pattern, '', tool_call_str)\n",
    "    \n",
    "    try:\n",
    "        tool_call_json = json.loads(clean_tags)\n",
    "        return tool_call_json\n",
    "    except json.JSONDecodeError:\n",
    "        return clean_tags\n",
    "    except Exception as e:\n",
    "        print(f\"Unexpected error: {e}\")\n",
    "        return \"There was some error parsing the Tool's output\""
   ]
  },
  {
   "cell_type": "code",
   "execution_count": 10,
   "metadata": {},
   "outputs": [
    {
     "data": {
      "text/plain": [
       "{'id': 0,\n",
       " 'name': 'get_current_weather',\n",
       " 'arguments': {'location': 'Madrid, Spain', 'unit': 'celsius'}}"
      ]
     },
     "execution_count": 10,
     "metadata": {},
     "output_type": "execute_result"
    }
   ],
   "source": [
    "parsed_output = parse_tool_call_str(output)\n",
    "parsed_output"
   ]
  },
  {
   "cell_type": "code",
   "execution_count": 11,
   "metadata": {},
   "outputs": [
    {
     "data": {
      "text/plain": [
       "'{\"temperature\": 58, \"unit\": \"celsius\"}'"
      ]
     },
     "execution_count": 11,
     "metadata": {},
     "output_type": "execute_result"
    }
   ],
   "source": [
    "result = get_current_weather(**parsed_output[\"arguments\"])\n",
    "result"
   ]
  },
  {
   "cell_type": "code",
   "execution_count": 12,
   "metadata": {},
   "outputs": [],
   "source": [
    "agent_chat_history.append({\n",
    "    \"role\": \"user\",\n",
    "    \"content\": f\"Observation: {result}\"\n",
    "})"
   ]
  },
  {
   "cell_type": "code",
   "execution_count": 13,
   "metadata": {},
   "outputs": [
    {
     "data": {
      "text/plain": [
       "'The current temperature in Madrid is 14 degrees Celsius.'"
      ]
     },
     "execution_count": 13,
     "metadata": {},
     "output_type": "execute_result"
    }
   ],
   "source": [
    "GROQ_CLIENT.chat.completions.create(\n",
    "    messages=agent_chat_history,\n",
    "    model=MODEL\n",
    ").choices[0].message.content"
   ]
  },
  {
   "cell_type": "code",
   "execution_count": null,
   "metadata": {},
   "outputs": [],
   "source": []
  },
  {
   "cell_type": "code",
   "execution_count": null,
   "metadata": {},
   "outputs": [],
   "source": []
  },
  {
   "cell_type": "code",
   "execution_count": null,
   "metadata": {},
   "outputs": [],
   "source": []
  },
  {
   "cell_type": "code",
   "execution_count": null,
   "metadata": {},
   "outputs": [],
   "source": []
  },
  {
   "cell_type": "code",
   "execution_count": null,
   "metadata": {},
   "outputs": [],
   "source": []
  },
  {
   "cell_type": "code",
   "execution_count": null,
   "metadata": {},
   "outputs": [],
   "source": []
  }
 ],
 "metadata": {
  "kernelspec": {
   "display_name": "Python 3",
   "language": "python",
   "name": "python3"
  },
  "language_info": {
   "codemirror_mode": {
    "name": "ipython",
    "version": 3
   },
   "file_extension": ".py",
   "mimetype": "text/x-python",
   "name": "python",
   "nbconvert_exporter": "python",
   "pygments_lexer": "ipython3",
   "version": "3.9.6"
  }
 },
 "nbformat": 4,
 "nbformat_minor": 2
}
