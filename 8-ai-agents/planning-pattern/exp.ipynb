{
 "cells": [
  {
   "cell_type": "code",
   "execution_count": 1,
   "metadata": {},
   "outputs": [],
   "source": [
    "import os\n",
    "import re\n",
    "import math\n",
    "import json\n",
    "from groq import Groq\n",
    "MODEL = \"llama-3.1-70b-versatile\""
   ]
  },
  {
   "cell_type": "code",
   "execution_count": 2,
   "metadata": {},
   "outputs": [],
   "source": [
    "GROQ_CLIENT = Groq(\n",
    "    api_key=''\n",
    ")"
   ]
  },
  {
   "cell_type": "code",
   "execution_count": 4,
   "metadata": {},
   "outputs": [],
   "source": [
    "import re\n",
    "from dataclasses import dataclass\n",
    "import time\n",
    "\n",
    "from colorama import Fore\n",
    "from colorama import Style\n",
    "\n",
    "def completions_create(client, messages: list, model: str) -> str:\n",
    "    \"\"\"\n",
    "    Sends a request to the client's `completions.create` method to interact with the language model.\n",
    "\n",
    "    Args:\n",
    "        client (Groq): The Groq client object\n",
    "        messages (list[dict]): A list of message objects containing chat history for the model.\n",
    "        model (str): The model to use for generating tool calls and responses.\n",
    "\n",
    "    Returns:\n",
    "        str: The content of the model's response.\n",
    "    \"\"\"\n",
    "    response = client.chat.completions.create(messages=messages, model=model)\n",
    "    return str(response.choices[0].message.content)\n",
    "\n",
    "\n",
    "def build_prompt_structure(prompt: str, role: str, tag: str = \"\") -> dict:\n",
    "    \"\"\"\n",
    "    Builds a structured prompt that includes the role and content.\n",
    "\n",
    "    Args:\n",
    "        prompt (str): The actual content of the prompt.\n",
    "        role (str): The role of the speaker (e.g., user, assistant).\n",
    "\n",
    "    Returns:\n",
    "        dict: A dictionary representing the structured prompt.\n",
    "    \"\"\"\n",
    "    if tag:\n",
    "        prompt = f\"<{tag}>{prompt}</{tag}>\"\n",
    "    return {\"role\": role, \"content\": prompt}\n",
    "\n",
    "\n",
    "def update_chat_history(history: list, msg: str, role: str):\n",
    "    \"\"\"\n",
    "    Updates the chat history by appending the latest response.\n",
    "\n",
    "    Args:\n",
    "        history (list): The list representing the current chat history.\n",
    "        msg (str): The message to append.\n",
    "        role (str): The role type (e.g. 'user', 'assistant', 'system')\n",
    "    \"\"\"\n",
    "    history.append(build_prompt_structure(prompt=msg, role=role))"
   ]
  },
  {
   "cell_type": "code",
   "execution_count": 6,
   "metadata": {},
   "outputs": [],
   "source": [
    "from typing import Optional\n",
    "\n",
    "class ChatHistory(list):\n",
    "    def __init__(self, messages: Optional[list] = None, total_length: int = -1):\n",
    "        \"\"\"Initialise the queue with a fixed total length.\n",
    "\n",
    "        Args:\n",
    "            messages (Optional[list]): A list of initial messages\n",
    "            total_length (int): The maximum number of messages the chat history can hold.\n",
    "        \"\"\"\n",
    "        if messages is None:\n",
    "            messages = []\n",
    "\n",
    "        super().__init__(messages)\n",
    "        self.total_length = total_length\n",
    "\n",
    "    def append(self, msg: str):\n",
    "        \"\"\"Add a message to the queue.\n",
    "\n",
    "        Args:\n",
    "            msg (str): The message to be added to the queue\n",
    "        \"\"\"\n",
    "        if len(self) == self.total_length:\n",
    "            self.pop(0)\n",
    "        super().append(msg)"
   ]
  },
  {
   "cell_type": "code",
   "execution_count": 8,
   "metadata": {},
   "outputs": [],
   "source": [
    "from typing import Optional\n",
    "\n",
    "class FixedFirstChatHistory(ChatHistory):\n",
    "    def __init__(self, messages: Optional[list] = None, total_length: int = -1):\n",
    "        \"\"\"Initialise the queue with a fixed total length.\n",
    "\n",
    "        Args:\n",
    "            messages (Optional[list]): A list of initial messages\n",
    "            total_length (int): The maximum number of messages the chat history can hold.\n",
    "        \"\"\"\n",
    "        super().__init__(messages, total_length)\n",
    "\n",
    "    def append(self, msg: str):\n",
    "        \"\"\"Add a message to the queue. The first messaage will always stay fixed.\n",
    "\n",
    "        Args:\n",
    "            msg (str): The message to be added to the queue\n",
    "        \"\"\"\n",
    "        if len(self) == self.total_length:\n",
    "            self.pop(1)\n",
    "        super().append(msg)"
   ]
  },
  {
   "cell_type": "code",
   "execution_count": 9,
   "metadata": {},
   "outputs": [],
   "source": [
    "@dataclass\n",
    "class TagContentResult:\n",
    "    \"\"\"\n",
    "    A data class to represent the result of extracting tag content.\n",
    "\n",
    "    Attributes:\n",
    "        content (List[str]): A list of strings containing the content found between the specified tags.\n",
    "        found (bool): A flag indicating whether any content was found for the given tag.\n",
    "    \"\"\"\n",
    "\n",
    "    content: list[str]\n",
    "    found: bool\n",
    "\n",
    "\n",
    "def extract_tag_content(text: str, tag: str) -> TagContentResult:\n",
    "    \"\"\"\n",
    "    Extracts all content enclosed by specified tags (e.g., <thought>, <response>, etc.).\n",
    "\n",
    "    Parameters:\n",
    "        text (str): The input string containing multiple potential tags.\n",
    "        tag (str): The name of the tag to search for (e.g., 'thought', 'response').\n",
    "\n",
    "    Returns:\n",
    "        dict: A dictionary with the following keys:\n",
    "            - 'content' (list): A list of strings containing the content found between the specified tags.\n",
    "            - 'found' (bool): A flag indicating whether any content was found for the given tag.\n",
    "    \"\"\"\n",
    "    # Build the regex pattern dynamically to find multiple occurrences of the tag\n",
    "    tag_pattern = rf\"<{tag}>(.*?)</{tag}>\"\n",
    "\n",
    "    # Use findall to capture all content between the specified tag\n",
    "    matched_contents = re.findall(tag_pattern, text, re.DOTALL)\n",
    "\n",
    "    # Return the dataclass instance with the result\n",
    "    return TagContentResult(\n",
    "        content=[content.strip() for content in matched_contents],\n",
    "        found=bool(matched_contents),\n",
    "    )\n",
    "\n",
    "\n",
    "def fancy_print(message: str) -> None:\n",
    "    \"\"\"\n",
    "    Displays a fancy print message.\n",
    "\n",
    "    Args:\n",
    "        message (str): The message to display.\n",
    "    \"\"\"\n",
    "    print(Style.BRIGHT + Fore.CYAN + f\"\\n{'=' * 50}\")\n",
    "    print(Fore.MAGENTA + f\"{message}\")\n",
    "    print(Style.BRIGHT + Fore.CYAN + f\"{'=' * 50}\\n\")\n",
    "    time.sleep(0.5)\n",
    "\n",
    "\n",
    "def fancy_step_tracker(step: int, total_steps: int) -> None:\n",
    "    \"\"\"\n",
    "    Displays a fancy step tracker for each iteration of the generation-reflection loop.\n",
    "\n",
    "    Args:\n",
    "        step (int): The current step in the loop.\n",
    "        total_steps (int): The total number of steps in the loop.\n",
    "    \"\"\"\n",
    "    fancy_print(f\"STEP {step + 1}/{total_steps}\")\n",
    "    \n",
    "import json\n",
    "from typing import Callable\n",
    "\n",
    "\n",
    "def get_fn_signature(fn: Callable) -> dict:\n",
    "    \"\"\"\n",
    "    Generates the signature for a given function.\n",
    "\n",
    "    Args:\n",
    "        fn (Callable): The function whose signature needs to be extracted.\n",
    "\n",
    "    Returns:\n",
    "        dict: A dictionary containing the function's name, description,\n",
    "              and parameter types.\n",
    "    \"\"\"\n",
    "    fn_signature: dict = {\n",
    "        \"name\": fn.__name__,\n",
    "        \"description\": fn.__doc__,\n",
    "        \"parameters\": {\"properties\": {}},\n",
    "    }\n",
    "    schema = {\n",
    "        k: {\"type\": v.__name__} for k, v in fn.__annotations__.items() if k != \"return\"\n",
    "    }\n",
    "    fn_signature[\"parameters\"][\"properties\"] = schema\n",
    "    return fn_signature\n",
    "\n",
    "\n",
    "def validate_arguments(tool_call: dict, tool_signature: dict) -> dict:\n",
    "    \"\"\"\n",
    "    Validates and converts arguments in the input dictionary to match the expected types.\n",
    "\n",
    "    Args:\n",
    "        tool_call (dict): A dictionary containing the arguments passed to the tool.\n",
    "        tool_signature (dict): The expected function signature and parameter types.\n",
    "\n",
    "    Returns:\n",
    "        dict: The tool call dictionary with the arguments converted to the correct types if necessary.\n",
    "    \"\"\"\n",
    "    properties = tool_signature[\"parameters\"][\"properties\"]\n",
    "\n",
    "    # TODO: This is overly simplified but enough for simple Tools.\n",
    "    type_mapping = {\n",
    "        \"int\": int,\n",
    "        \"str\": str,\n",
    "        \"bool\": bool,\n",
    "        \"float\": float,\n",
    "    }\n",
    "\n",
    "    for arg_name, arg_value in tool_call[\"arguments\"].items():\n",
    "        expected_type = properties[arg_name].get(\"type\")\n",
    "\n",
    "        if not isinstance(arg_value, type_mapping[expected_type]):\n",
    "            tool_call[\"arguments\"][arg_name] = type_mapping[expected_type](arg_value)\n",
    "\n",
    "    return tool_call\n",
    "\n",
    "\n",
    "class Tool:\n",
    "    \"\"\"\n",
    "    A class representing a tool that wraps a callable and its signature.\n",
    "\n",
    "    Attributes:\n",
    "        name (str): The name of the tool (function).\n",
    "        fn (Callable): The function that the tool represents.\n",
    "        fn_signature (str): JSON string representation of the function's signature.\n",
    "    \"\"\"\n",
    "\n",
    "    def __init__(self, name: str, fn: Callable, fn_signature: str):\n",
    "        self.name = name\n",
    "        self.fn = fn\n",
    "        self.fn_signature = fn_signature\n",
    "\n",
    "    def __str__(self):\n",
    "        return self.fn_signature\n",
    "\n",
    "    def run(self, **kwargs):\n",
    "        \"\"\"\n",
    "        Executes the tool (function) with provided arguments.\n",
    "\n",
    "        Args:\n",
    "            **kwargs: Keyword arguments passed to the function.\n",
    "\n",
    "        Returns:\n",
    "            The result of the function call.\n",
    "        \"\"\"\n",
    "        return self.fn(**kwargs)\n",
    "\n",
    "\n",
    "def tool(fn: Callable):\n",
    "    \"\"\"\n",
    "    A decorator that wraps a function into a Tool object.\n",
    "\n",
    "    Args:\n",
    "        fn (Callable): The function to be wrapped.\n",
    "\n",
    "    Returns:\n",
    "        Tool: A Tool object containing the function, its name, and its signature.\n",
    "    \"\"\"\n",
    "\n",
    "    def wrapper():\n",
    "        fn_signature = get_fn_signature(fn)\n",
    "        return Tool(\n",
    "            name=fn_signature.get(\"name\"), fn=fn, fn_signature=json.dumps(fn_signature)\n",
    "        )\n",
    "\n",
    "    return wrapper()"
   ]
  },
  {
   "cell_type": "code",
   "execution_count": 11,
   "metadata": {},
   "outputs": [],
   "source": [
    "@tool\n",
    "def sum_two_elements(a: int, b: int) -> int:\n",
    "    \"\"\"\n",
    "    Computes the sum of two integers.\n",
    "\n",
    "    Args:\n",
    "        a (int): The first integer to be summed.\n",
    "        b (int): The second integer to be summed.\n",
    "\n",
    "    Returns:\n",
    "        int: The sum of `a` and `b`.\n",
    "    \"\"\"\n",
    "    return a + b\n",
    "\n",
    "\n",
    "@tool\n",
    "def multiply_two_elements(a: int, b: int) -> int:\n",
    "    \"\"\"\n",
    "    Multiplies two integers.\n",
    "\n",
    "    Args:\n",
    "        a (int): The first integer to multiply.\n",
    "        b (int): The second integer to multiply.\n",
    "\n",
    "    Returns:\n",
    "        int: The product of `a` and `b`.\n",
    "    \"\"\"\n",
    "    return a * b\n",
    "\n",
    "from typing import Union\n",
    "\n",
    "@tool\n",
    "def compute_log(x: int) -> Union[float, str]:\n",
    "    \"\"\"\n",
    "    Computes the logarithm of an integer `x` with an optional base.\n",
    "\n",
    "    Args:\n",
    "        x (int): The integer value for which the logarithm is computed. Must be greater than 0.\n",
    "\n",
    "    Returns:\n",
    "        float: The logarithm of `x` to the specified `base`.\n",
    "    \"\"\"\n",
    "    if x <= 0:\n",
    "        return \"Logarithm is undefined for values less than or equal to 0.\"\n",
    "    \n",
    "    return math.log(x)\n",
    "\n",
    "\n",
    "available_tools = {\n",
    "    \"sum_two_elements\": sum_two_elements,\n",
    "    \"multiply_two_elements\": multiply_two_elements,\n",
    "    \"compute_log\": compute_log\n",
    "}"
   ]
  },
  {
   "cell_type": "code",
   "execution_count": 12,
   "metadata": {},
   "outputs": [
    {
     "name": "stdout",
     "output_type": "stream",
     "text": [
      "Tool name:  sum_two_elements\n",
      "Tool signature:  {\"name\": \"sum_two_elements\", \"description\": \"\\n    Computes the sum of two integers.\\n\\n    Args:\\n        a (int): The first integer to be summed.\\n        b (int): The second integer to be summed.\\n\\n    Returns:\\n        int: The sum of `a` and `b`.\\n    \", \"parameters\": {\"properties\": {\"a\": {\"type\": \"int\"}, \"b\": {\"type\": \"int\"}}}}\n"
     ]
    }
   ],
   "source": [
    "print(\"Tool name: \", sum_two_elements.name)\n",
    "print(\"Tool signature: \", sum_two_elements.fn_signature)"
   ]
  },
  {
   "cell_type": "code",
   "execution_count": 13,
   "metadata": {},
   "outputs": [],
   "source": [
    "tools_signature = sum_two_elements.fn_signature + \",\\n\" + multiply_two_elements.fn_signature + \",\\n\" + compute_log.fn_signature\n"
   ]
  },
  {
   "cell_type": "code",
   "execution_count": 16,
   "metadata": {},
   "outputs": [],
   "source": [
    "# Define the System Prompt as a constant\n",
    "REACT_SYSTEM_PROMPT = \"\"\"\n",
    "You are a function calling AI model. You operate by running a loop with the following steps: Thought, Action, Observation.\n",
    "You are provided with function signatures within <tools></tools> XML tags.\n",
    "You may call one or more functions to assist with the user query. Don' make assumptions about what values to plug\n",
    "into functions. Pay special attention to the properties 'types'. You should use those types as in a Python dict.\n",
    "\n",
    "For each function call return a json object with function name and arguments within <tool_call></tool_call> XML tags as follows:\n",
    "\n",
    "<tool_call>\n",
    "{\"name\": <function-name>,\"arguments\": <args-dict>, \"id\": <monotonically-increasing-id>}\n",
    "</tool_call>\n",
    "\n",
    "Here are the available tools / actions:\n",
    "\n",
    "<tools> \n",
    "%s\n",
    "</tools>\n",
    "\n",
    "Example session:\n",
    "\n",
    "<question>What's the current temperature in Madrid?</question>\n",
    "<thought>I need to get the current weather in Madrid</thought>\n",
    "<tool_call>{\"name\": \"get_current_weather\",\"arguments\": {\"location\": \"Madrid\", \"unit\": \"celsius\"}, \"id\": 0}</tool_call>\n",
    "\n",
    "You will be called again with this:\n",
    "\n",
    "<observation>{0: {\"temperature\": 25, \"unit\": \"celsius\"}}</observation>\n",
    "\n",
    "You then output:\n",
    "\n",
    "<response>The current temperature in Madrid is 25 degrees Celsius</response>\n",
    "\n",
    "Additional constraints:\n",
    "\n",
    "- If the user asks you something unrelated to any of the tools above, answer freely enclosing your answer with <response></response> tags.\n",
    "\"\"\""
   ]
  },
  {
   "cell_type": "code",
   "execution_count": 14,
   "metadata": {},
   "outputs": [
    {
     "name": "stdout",
     "output_type": "stream",
     "text": [
      "{\"name\": \"sum_two_elements\", \"description\": \"\\n    Computes the sum of two integers.\\n\\n    Args:\\n        a (int): The first integer to be summed.\\n        b (int): The second integer to be summed.\\n\\n    Returns:\\n        int: The sum of `a` and `b`.\\n    \", \"parameters\": {\"properties\": {\"a\": {\"type\": \"int\"}, \"b\": {\"type\": \"int\"}}}},\n",
      "{\"name\": \"multiply_two_elements\", \"description\": \"\\n    Multiplies two integers.\\n\\n    Args:\\n        a (int): The first integer to multiply.\\n        b (int): The second integer to multiply.\\n\\n    Returns:\\n        int: The product of `a` and `b`.\\n    \", \"parameters\": {\"properties\": {\"a\": {\"type\": \"int\"}, \"b\": {\"type\": \"int\"}}}},\n",
      "{\"name\": \"compute_log\", \"description\": \"\\n    Computes the logarithm of an integer `x` with an optional base.\\n\\n    Args:\\n        x (int): The integer value for which the logarithm is computed. Must be greater than 0.\\n\\n    Returns:\\n        float: The logarithm of `x` to the specified `base`.\\n    \", \"parameters\": {\"properties\": {\"x\": {\"type\": \"int\"}}}}\n"
     ]
    }
   ],
   "source": [
    "print(tools_signature)"
   ]
  },
  {
   "cell_type": "code",
   "execution_count": 17,
   "metadata": {},
   "outputs": [],
   "source": [
    "REACT_SYSTEM_PROMPT = REACT_SYSTEM_PROMPT % tools_signature"
   ]
  },
  {
   "cell_type": "code",
   "execution_count": 18,
   "metadata": {},
   "outputs": [
    {
     "name": "stdout",
     "output_type": "stream",
     "text": [
      "\n",
      "You are a function calling AI model. You operate by running a loop with the following steps: Thought, Action, Observation.\n",
      "You are provided with function signatures within <tools></tools> XML tags.\n",
      "You may call one or more functions to assist with the user query. Don' make assumptions about what values to plug\n",
      "into functions. Pay special attention to the properties 'types'. You should use those types as in a Python dict.\n",
      "\n",
      "For each function call return a json object with function name and arguments within <tool_call></tool_call> XML tags as follows:\n",
      "\n",
      "<tool_call>\n",
      "{\"name\": <function-name>,\"arguments\": <args-dict>, \"id\": <monotonically-increasing-id>}\n",
      "</tool_call>\n",
      "\n",
      "Here are the available tools / actions:\n",
      "\n",
      "<tools> \n",
      "{\"name\": \"sum_two_elements\", \"description\": \"\\n    Computes the sum of two integers.\\n\\n    Args:\\n        a (int): The first integer to be summed.\\n        b (int): The second integer to be summed.\\n\\n    Returns:\\n        int: The sum of `a` and `b`.\\n    \", \"parameters\": {\"properties\": {\"a\": {\"type\": \"int\"}, \"b\": {\"type\": \"int\"}}}},\n",
      "{\"name\": \"multiply_two_elements\", \"description\": \"\\n    Multiplies two integers.\\n\\n    Args:\\n        a (int): The first integer to multiply.\\n        b (int): The second integer to multiply.\\n\\n    Returns:\\n        int: The product of `a` and `b`.\\n    \", \"parameters\": {\"properties\": {\"a\": {\"type\": \"int\"}, \"b\": {\"type\": \"int\"}}}},\n",
      "{\"name\": \"compute_log\", \"description\": \"\\n    Computes the logarithm of an integer `x` with an optional base.\\n\\n    Args:\\n        x (int): The integer value for which the logarithm is computed. Must be greater than 0.\\n\\n    Returns:\\n        float: The logarithm of `x` to the specified `base`.\\n    \", \"parameters\": {\"properties\": {\"x\": {\"type\": \"int\"}}}}\n",
      "</tools>\n",
      "\n",
      "Example session:\n",
      "\n",
      "<question>What's the current temperature in Madrid?</question>\n",
      "<thought>I need to get the current weather in Madrid</thought>\n",
      "<tool_call>{\"name\": \"get_current_weather\",\"arguments\": {\"location\": \"Madrid\", \"unit\": \"celsius\"}, \"id\": 0}</tool_call>\n",
      "\n",
      "You will be called again with this:\n",
      "\n",
      "<observation>{0: {\"temperature\": 25, \"unit\": \"celsius\"}}</observation>\n",
      "\n",
      "You then output:\n",
      "\n",
      "<response>The current temperature in Madrid is 25 degrees Celsius</response>\n",
      "\n",
      "Additional constraints:\n",
      "\n",
      "- If the user asks you something unrelated to any of the tools above, answer freely enclosing your answer with <response></response> tags.\n",
      "\n"
     ]
    }
   ],
   "source": [
    "print(REACT_SYSTEM_PROMPT)"
   ]
  },
  {
   "cell_type": "code",
   "execution_count": 19,
   "metadata": {},
   "outputs": [],
   "source": [
    "USER_QUESTION = \"I want to calculate the sum of 1234 and 5678 and multiply the result by 5. Then, I want to take the logarithm of this result\"\n",
    "chat_history = [\n",
    "    {\n",
    "        \"role\": \"system\",\n",
    "        \"content\": REACT_SYSTEM_PROMPT\n",
    "    },\n",
    "    {\n",
    "        \"role\": \"user\",\n",
    "        \"content\": f\"<question>{USER_QUESTION}</question>\"\n",
    "    }\n",
    "]"
   ]
  },
  {
   "cell_type": "code",
   "execution_count": 20,
   "metadata": {},
   "outputs": [
    {
     "name": "stdout",
     "output_type": "stream",
     "text": [
      "<thought>I need to calculate the sum of 1234 and 5678, then multiply the result by 5, and finally compute the logarithm of this result. I will use the sum_two_elements, multiply_two_elements, and compute_log functions to achieve this.</thought>\n",
      "<tool_call>{\"name\": \"sum_two_elements\",\"arguments\": {\"a\": 1234, \"b\": 5678}, \"id\": 0}</tool_call>\n"
     ]
    }
   ],
   "source": [
    "output = GROQ_CLIENT.chat.completions.create(\n",
    "    messages=chat_history,\n",
    "    model=MODEL\n",
    ").choices[0].message.content\n",
    "\n",
    "print(output)"
   ]
  },
  {
   "cell_type": "code",
   "execution_count": 21,
   "metadata": {},
   "outputs": [],
   "source": [
    "chat_history.append(\n",
    "    {\n",
    "        \"role\": \"assistant\",\n",
    "        \"content\": output\n",
    "    }\n",
    ")"
   ]
  },
  {
   "cell_type": "code",
   "execution_count": 22,
   "metadata": {},
   "outputs": [],
   "source": [
    "tool_call = extract_tag_content(output, tag=\"tool_call\")"
   ]
  },
  {
   "cell_type": "code",
   "execution_count": 23,
   "metadata": {},
   "outputs": [
    {
     "data": {
      "text/plain": [
       "TagContentResult(content=['{\"name\": \"sum_two_elements\",\"arguments\": {\"a\": 1234, \"b\": 5678}, \"id\": 0}'], found=True)"
      ]
     },
     "execution_count": 23,
     "metadata": {},
     "output_type": "execute_result"
    }
   ],
   "source": [
    "tool_call"
   ]
  },
  {
   "cell_type": "code",
   "execution_count": 24,
   "metadata": {},
   "outputs": [
    {
     "data": {
      "text/plain": [
       "{'name': 'sum_two_elements', 'arguments': {'a': 1234, 'b': 5678}, 'id': 0}"
      ]
     },
     "execution_count": 24,
     "metadata": {},
     "output_type": "execute_result"
    }
   ],
   "source": [
    "tool_call = json.loads(tool_call.content[0])\n",
    "tool_call"
   ]
  },
  {
   "cell_type": "code",
   "execution_count": 25,
   "metadata": {},
   "outputs": [],
   "source": [
    "tool_result = available_tools[tool_call[\"name\"]].run(**tool_call[\"arguments\"])"
   ]
  },
  {
   "cell_type": "code",
   "execution_count": 26,
   "metadata": {},
   "outputs": [],
   "source": [
    "assert tool_result == 1234 + 5678"
   ]
  },
  {
   "cell_type": "code",
   "execution_count": 27,
   "metadata": {},
   "outputs": [],
   "source": [
    "chat_history.append(\n",
    "    {\n",
    "        \"role\": \"user\",\n",
    "        \"content\": f\"<observation>{tool_result}</observation>\"\n",
    "    }\n",
    ")"
   ]
  },
  {
   "cell_type": "code",
   "execution_count": 28,
   "metadata": {},
   "outputs": [
    {
     "data": {
      "text/plain": [
       "[{'role': 'system',\n",
       "  'content': '\\nYou are a function calling AI model. You operate by running a loop with the following steps: Thought, Action, Observation.\\nYou are provided with function signatures within <tools></tools> XML tags.\\nYou may call one or more functions to assist with the user query. Don\\' make assumptions about what values to plug\\ninto functions. Pay special attention to the properties \\'types\\'. You should use those types as in a Python dict.\\n\\nFor each function call return a json object with function name and arguments within <tool_call></tool_call> XML tags as follows:\\n\\n<tool_call>\\n{\"name\": <function-name>,\"arguments\": <args-dict>, \"id\": <monotonically-increasing-id>}\\n</tool_call>\\n\\nHere are the available tools / actions:\\n\\n<tools> \\n{\"name\": \"sum_two_elements\", \"description\": \"\\\\n    Computes the sum of two integers.\\\\n\\\\n    Args:\\\\n        a (int): The first integer to be summed.\\\\n        b (int): The second integer to be summed.\\\\n\\\\n    Returns:\\\\n        int: The sum of `a` and `b`.\\\\n    \", \"parameters\": {\"properties\": {\"a\": {\"type\": \"int\"}, \"b\": {\"type\": \"int\"}}}},\\n{\"name\": \"multiply_two_elements\", \"description\": \"\\\\n    Multiplies two integers.\\\\n\\\\n    Args:\\\\n        a (int): The first integer to multiply.\\\\n        b (int): The second integer to multiply.\\\\n\\\\n    Returns:\\\\n        int: The product of `a` and `b`.\\\\n    \", \"parameters\": {\"properties\": {\"a\": {\"type\": \"int\"}, \"b\": {\"type\": \"int\"}}}},\\n{\"name\": \"compute_log\", \"description\": \"\\\\n    Computes the logarithm of an integer `x` with an optional base.\\\\n\\\\n    Args:\\\\n        x (int): The integer value for which the logarithm is computed. Must be greater than 0.\\\\n\\\\n    Returns:\\\\n        float: The logarithm of `x` to the specified `base`.\\\\n    \", \"parameters\": {\"properties\": {\"x\": {\"type\": \"int\"}}}}\\n</tools>\\n\\nExample session:\\n\\n<question>What\\'s the current temperature in Madrid?</question>\\n<thought>I need to get the current weather in Madrid</thought>\\n<tool_call>{\"name\": \"get_current_weather\",\"arguments\": {\"location\": \"Madrid\", \"unit\": \"celsius\"}, \"id\": 0}</tool_call>\\n\\nYou will be called again with this:\\n\\n<observation>{0: {\"temperature\": 25, \"unit\": \"celsius\"}}</observation>\\n\\nYou then output:\\n\\n<response>The current temperature in Madrid is 25 degrees Celsius</response>\\n\\nAdditional constraints:\\n\\n- If the user asks you something unrelated to any of the tools above, answer freely enclosing your answer with <response></response> tags.\\n'},\n",
       " {'role': 'user',\n",
       "  'content': '<question>I want to calculate the sum of 1234 and 5678 and multiply the result by 5. Then, I want to take the logarithm of this result</question>'},\n",
       " {'role': 'assistant',\n",
       "  'content': '<thought>I need to calculate the sum of 1234 and 5678, then multiply the result by 5, and finally compute the logarithm of this result. I will use the sum_two_elements, multiply_two_elements, and compute_log functions to achieve this.</thought>\\n<tool_call>{\"name\": \"sum_two_elements\",\"arguments\": {\"a\": 1234, \"b\": 5678}, \"id\": 0}</tool_call>'},\n",
       " {'role': 'user', 'content': '<observation>6912</observation>'}]"
      ]
     },
     "execution_count": 28,
     "metadata": {},
     "output_type": "execute_result"
    }
   ],
   "source": [
    "chat_history"
   ]
  },
  {
   "cell_type": "code",
   "execution_count": 29,
   "metadata": {},
   "outputs": [
    {
     "name": "stdout",
     "output_type": "stream",
     "text": [
      "<thought>I have the sum of 1234 and 5678, which is 6912. Now, I need to multiply this result by 5.</thought>\n",
      "<tool_call>{\"name\": \"multiply_two_elements\",\"arguments\": {\"a\": 6912, \"b\": 5}, \"id\": 1}</tool_call>\n"
     ]
    }
   ],
   "source": [
    "output = GROQ_CLIENT.chat.completions.create(\n",
    "    messages=chat_history,\n",
    "    model=MODEL\n",
    ").choices[0].message.content\n",
    "\n",
    "print(output)"
   ]
  },
  {
   "cell_type": "code",
   "execution_count": 30,
   "metadata": {},
   "outputs": [],
   "source": [
    "chat_history.append(\n",
    "    {\n",
    "        \"role\": \"assistant\",\n",
    "        \"content\": output\n",
    "    }\n",
    ")"
   ]
  },
  {
   "cell_type": "code",
   "execution_count": 31,
   "metadata": {},
   "outputs": [],
   "source": [
    "tool_call = extract_tag_content(output, tag=\"tool_call\")\n",
    "tool_call = json.loads(tool_call.content[0])\n",
    "tool_result = available_tools[tool_call[\"name\"]].run(**tool_call[\"arguments\"])"
   ]
  },
  {
   "cell_type": "code",
   "execution_count": 32,
   "metadata": {},
   "outputs": [],
   "source": [
    "assert tool_result == (1234 + 5678) * 5\n",
    "chat_history.append(\n",
    "    {\n",
    "        \"role\": \"user\",\n",
    "        \"content\": f\"<observation>{tool_result}</observation>\"\n",
    "    }\n",
    ")"
   ]
  },
  {
   "cell_type": "code",
   "execution_count": 33,
   "metadata": {},
   "outputs": [
    {
     "data": {
      "text/plain": [
       "[{'role': 'system',\n",
       "  'content': '\\nYou are a function calling AI model. You operate by running a loop with the following steps: Thought, Action, Observation.\\nYou are provided with function signatures within <tools></tools> XML tags.\\nYou may call one or more functions to assist with the user query. Don\\' make assumptions about what values to plug\\ninto functions. Pay special attention to the properties \\'types\\'. You should use those types as in a Python dict.\\n\\nFor each function call return a json object with function name and arguments within <tool_call></tool_call> XML tags as follows:\\n\\n<tool_call>\\n{\"name\": <function-name>,\"arguments\": <args-dict>, \"id\": <monotonically-increasing-id>}\\n</tool_call>\\n\\nHere are the available tools / actions:\\n\\n<tools> \\n{\"name\": \"sum_two_elements\", \"description\": \"\\\\n    Computes the sum of two integers.\\\\n\\\\n    Args:\\\\n        a (int): The first integer to be summed.\\\\n        b (int): The second integer to be summed.\\\\n\\\\n    Returns:\\\\n        int: The sum of `a` and `b`.\\\\n    \", \"parameters\": {\"properties\": {\"a\": {\"type\": \"int\"}, \"b\": {\"type\": \"int\"}}}},\\n{\"name\": \"multiply_two_elements\", \"description\": \"\\\\n    Multiplies two integers.\\\\n\\\\n    Args:\\\\n        a (int): The first integer to multiply.\\\\n        b (int): The second integer to multiply.\\\\n\\\\n    Returns:\\\\n        int: The product of `a` and `b`.\\\\n    \", \"parameters\": {\"properties\": {\"a\": {\"type\": \"int\"}, \"b\": {\"type\": \"int\"}}}},\\n{\"name\": \"compute_log\", \"description\": \"\\\\n    Computes the logarithm of an integer `x` with an optional base.\\\\n\\\\n    Args:\\\\n        x (int): The integer value for which the logarithm is computed. Must be greater than 0.\\\\n\\\\n    Returns:\\\\n        float: The logarithm of `x` to the specified `base`.\\\\n    \", \"parameters\": {\"properties\": {\"x\": {\"type\": \"int\"}}}}\\n</tools>\\n\\nExample session:\\n\\n<question>What\\'s the current temperature in Madrid?</question>\\n<thought>I need to get the current weather in Madrid</thought>\\n<tool_call>{\"name\": \"get_current_weather\",\"arguments\": {\"location\": \"Madrid\", \"unit\": \"celsius\"}, \"id\": 0}</tool_call>\\n\\nYou will be called again with this:\\n\\n<observation>{0: {\"temperature\": 25, \"unit\": \"celsius\"}}</observation>\\n\\nYou then output:\\n\\n<response>The current temperature in Madrid is 25 degrees Celsius</response>\\n\\nAdditional constraints:\\n\\n- If the user asks you something unrelated to any of the tools above, answer freely enclosing your answer with <response></response> tags.\\n'},\n",
       " {'role': 'user',\n",
       "  'content': '<question>I want to calculate the sum of 1234 and 5678 and multiply the result by 5. Then, I want to take the logarithm of this result</question>'},\n",
       " {'role': 'assistant',\n",
       "  'content': '<thought>I need to calculate the sum of 1234 and 5678, then multiply the result by 5, and finally compute the logarithm of this result. I will use the sum_two_elements, multiply_two_elements, and compute_log functions to achieve this.</thought>\\n<tool_call>{\"name\": \"sum_two_elements\",\"arguments\": {\"a\": 1234, \"b\": 5678}, \"id\": 0}</tool_call>'},\n",
       " {'role': 'user', 'content': '<observation>6912</observation>'},\n",
       " {'role': 'assistant',\n",
       "  'content': '<thought>I have the sum of 1234 and 5678, which is 6912. Now, I need to multiply this result by 5.</thought>\\n<tool_call>{\"name\": \"multiply_two_elements\",\"arguments\": {\"a\": 6912, \"b\": 5}, \"id\": 1}</tool_call>'},\n",
       " {'role': 'user', 'content': '<observation>34560</observation>'}]"
      ]
     },
     "execution_count": 33,
     "metadata": {},
     "output_type": "execute_result"
    }
   ],
   "source": [
    "chat_history"
   ]
  },
  {
   "cell_type": "code",
   "execution_count": 34,
   "metadata": {},
   "outputs": [
    {
     "name": "stdout",
     "output_type": "stream",
     "text": [
      "<thought>I have the result of multiplying 6912 by 5, which is 34560. Now, I need to compute the logarithm of this result.</thought>\n",
      "<tool_call>{\"name\": \"compute_log\",\"arguments\": {\"x\": 34560}, \"id\": 2}</tool_call>\n"
     ]
    }
   ],
   "source": [
    "output = GROQ_CLIENT.chat.completions.create(\n",
    "    messages=chat_history,\n",
    "    model=MODEL\n",
    ").choices[0].message.content\n",
    "\n",
    "print(output)"
   ]
  },
  {
   "cell_type": "code",
   "execution_count": 35,
   "metadata": {},
   "outputs": [],
   "source": [
    "chat_history.append(\n",
    "    {\n",
    "        \"role\": \"assistant\",\n",
    "        \"content\": output\n",
    "    }\n",
    ")"
   ]
  },
  {
   "cell_type": "code",
   "execution_count": 36,
   "metadata": {},
   "outputs": [],
   "source": [
    "tool_call = extract_tag_content(output, tag=\"tool_call\")\n",
    "tool_call = json.loads(tool_call.content[0])\n",
    "tool_result = available_tools[tool_call[\"name\"]].run(**tool_call[\"arguments\"])"
   ]
  },
  {
   "cell_type": "code",
   "execution_count": 37,
   "metadata": {},
   "outputs": [],
   "source": [
    "assert tool_result == math.log((1234 + 5678) * 5)"
   ]
  },
  {
   "cell_type": "code",
   "execution_count": 38,
   "metadata": {},
   "outputs": [],
   "source": [
    "chat_history.append(\n",
    "    {\n",
    "        \"role\": \"user\",\n",
    "        \"content\": f\"<observation>{tool_result}</observation>\"\n",
    "    }\n",
    ")"
   ]
  },
  {
   "cell_type": "code",
   "execution_count": 39,
   "metadata": {},
   "outputs": [
    {
     "name": "stdout",
     "output_type": "stream",
     "text": [
      "<thought>I have computed the logarithm of 34560, which is approximately 10.45. Now, I can provide the final result to the user.</thought>\n",
      "<response>The sum of 1234 and 5678 is 6912. Multiplying 6912 by 5 results in 34560. The logarithm of 34560 is approximately 10.45.</response>\n"
     ]
    }
   ],
   "source": [
    "output = GROQ_CLIENT.chat.completions.create(\n",
    "    messages=chat_history,\n",
    "    model=MODEL\n",
    ").choices[0].message.content\n",
    "\n",
    "print(output)"
   ]
  },
  {
   "cell_type": "code",
   "execution_count": 42,
   "metadata": {},
   "outputs": [],
   "source": [
    "import json\n",
    "import re\n",
    "\n",
    "from colorama import Fore\n",
    "from groq import Groq\n",
    "\n",
    "BASE_SYSTEM_PROMPT = \"\"\n",
    "\n",
    "\n",
    "REACT_SYSTEM_PROMPT = \"\"\"\n",
    "You operate by running a loop with the following steps: Thought, Action, Observation.\n",
    "You are provided with function signatures within <tools></tools> XML tags.\n",
    "You may call one or more functions to assist with the user query. Don' make assumptions about what values to plug\n",
    "into functions. Pay special attention to the properties 'types'. You should use those types as in a Python dict.\n",
    "\n",
    "For each function call return a json object with function name and arguments within <tool_call></tool_call> XML tags as follows:\n",
    "\n",
    "<tool_call>\n",
    "{\"name\": <function-name>,\"arguments\": <args-dict>, \"id\": <monotonically-increasing-id>}\n",
    "</tool_call>\n",
    "\n",
    "Here are the available tools / actions:\n",
    "\n",
    "<tools>\n",
    "%s\n",
    "</tools>\n",
    "\n",
    "Example session:\n",
    "\n",
    "<question>What's the current temperature in Madrid?</question>\n",
    "<thought>I need to get the current weather in Madrid</thought>\n",
    "<tool_call>{\"name\": \"get_current_weather\",\"arguments\": {\"location\": \"Madrid\", \"unit\": \"celsius\"}, \"id\": 0}</tool_call>\n",
    "\n",
    "You will be called again with this:\n",
    "\n",
    "<observation>{0: {\"temperature\": 25, \"unit\": \"celsius\"}}</observation>\n",
    "\n",
    "You then output:\n",
    "\n",
    "<response>The current temperature in Madrid is 25 degrees Celsius</response>\n",
    "\n",
    "Additional constraints:\n",
    "\n",
    "- If the user asks you something unrelated to any of the tools above, answer freely enclosing your answer with <response></response> tags.\n",
    "\"\"\"\n",
    "\n",
    "\n",
    "class ReactAgent:\n",
    "    \"\"\"\n",
    "    A class that represents an agent using the ReAct logic that interacts with tools to process\n",
    "    user inputs, make decisions, and execute tool calls. The agent can run interactive sessions,\n",
    "    collect tool signatures, and process multiple tool calls in a given round of interaction.\n",
    "\n",
    "    Attributes:\n",
    "        client (Groq): The Groq client used to handle model-based completions.\n",
    "        model (str): The name of the model used for generating responses. Default is \"llama-3.1-70b-versatile\".\n",
    "        tools (list[Tool]): A list of Tool instances available for execution.\n",
    "        tools_dict (dict): A dictionary mapping tool names to their corresponding Tool instances.\n",
    "    \"\"\"\n",
    "\n",
    "    def __init__(\n",
    "        self,\n",
    "        tools: Union[Tool, list[Tool]],\n",
    "        model: str = \"llama-3.1-70b-versatile\",\n",
    "        system_prompt: str = BASE_SYSTEM_PROMPT,\n",
    "    ) -> None:\n",
    "        self.client = GROQ_CLIENT\n",
    "        self.model = model\n",
    "        self.system_prompt = system_prompt\n",
    "        self.tools = tools if isinstance(tools, list) else [tools]\n",
    "        self.tools_dict = {tool.name: tool for tool in self.tools}\n",
    "\n",
    "    def add_tool_signatures(self) -> str:\n",
    "        \"\"\"\n",
    "        Collects the function signatures of all available tools.\n",
    "\n",
    "        Returns:\n",
    "            str: A concatenated string of all tool function signatures in JSON format.\n",
    "        \"\"\"\n",
    "        return \"\".join([tool.fn_signature for tool in self.tools])\n",
    "\n",
    "    def process_tool_calls(self, tool_calls_content: list) -> dict:\n",
    "        \"\"\"\n",
    "        Processes each tool call, validates arguments, executes the tools, and collects results.\n",
    "\n",
    "        Args:\n",
    "            tool_calls_content (list): List of strings, each representing a tool call in JSON format.\n",
    "\n",
    "        Returns:\n",
    "            dict: A dictionary where the keys are tool call IDs and values are the results from the tools.\n",
    "        \"\"\"\n",
    "        observations = {}\n",
    "        for tool_call_str in tool_calls_content:\n",
    "            tool_call = json.loads(tool_call_str)\n",
    "            tool_name = tool_call[\"name\"]\n",
    "            tool = self.tools_dict[tool_name]\n",
    "\n",
    "            print(Fore.GREEN + f\"\\nUsing Tool: {tool_name}\")\n",
    "\n",
    "            # Validate and execute the tool call\n",
    "            validated_tool_call = validate_arguments(\n",
    "                tool_call, json.loads(tool.fn_signature)\n",
    "            )\n",
    "            print(Fore.GREEN + f\"\\nTool call dict: \\n{validated_tool_call}\")\n",
    "\n",
    "            result = tool.run(**validated_tool_call[\"arguments\"])\n",
    "            print(Fore.GREEN + f\"\\nTool result: \\n{result}\")\n",
    "\n",
    "            # Store the result using the tool call ID\n",
    "            observations[validated_tool_call[\"id\"]] = result\n",
    "\n",
    "        return observations\n",
    "\n",
    "    def run(\n",
    "        self,\n",
    "        user_msg: str,\n",
    "        max_rounds: int = 10,\n",
    "    ) -> str:\n",
    "        \"\"\"\n",
    "        Executes a user interaction session, where the agent processes user input, generates responses,\n",
    "        handles tool calls, and updates chat history until a final response is ready or the maximum\n",
    "        number of rounds is reached.\n",
    "\n",
    "        Args:\n",
    "            user_msg (str): The user's input message to start the interaction.\n",
    "            max_rounds (int, optional): Maximum number of interaction rounds the agent should perform. Default is 10.\n",
    "\n",
    "        Returns:\n",
    "            str: The final response generated by the agent after processing user input and any tool calls.\n",
    "        \"\"\"\n",
    "        user_prompt = build_prompt_structure(\n",
    "            prompt=user_msg, role=\"user\", tag=\"question\"\n",
    "        )\n",
    "        if self.tools:\n",
    "            self.system_prompt += (\n",
    "                \"\\n\" + REACT_SYSTEM_PROMPT % self.add_tool_signatures()\n",
    "            )\n",
    "\n",
    "        chat_history = ChatHistory(\n",
    "            [\n",
    "                build_prompt_structure(\n",
    "                    prompt=self.system_prompt,\n",
    "                    role=\"system\",\n",
    "                ),\n",
    "                user_prompt,\n",
    "            ]\n",
    "        )\n",
    "\n",
    "        if self.tools:\n",
    "            # Run the ReAct loop for max_rounds\n",
    "            for _ in range(max_rounds):\n",
    "\n",
    "                completion = completions_create(self.client, chat_history, self.model)\n",
    "\n",
    "                response = extract_tag_content(str(completion), \"response\")\n",
    "                if response.found:\n",
    "                    return response.content[0]\n",
    "\n",
    "                thought = extract_tag_content(str(completion), \"thought\")\n",
    "                tool_calls = extract_tag_content(str(completion), \"tool_call\")\n",
    "\n",
    "                update_chat_history(chat_history, completion, \"assistant\")\n",
    "\n",
    "                print(Fore.MAGENTA + f\"\\nThought: {thought.content[0]}\")\n",
    "\n",
    "                if tool_calls.found:\n",
    "                    observations = self.process_tool_calls(tool_calls.content)\n",
    "                    print(Fore.BLUE + f\"\\nObservations: {observations}\")\n",
    "                    update_chat_history(chat_history, f\"{observations}\", \"user\")\n",
    "\n",
    "        return completions_create(self.client, chat_history, self.model)"
   ]
  },
  {
   "cell_type": "code",
   "execution_count": 44,
   "metadata": {},
   "outputs": [],
   "source": [
    "agent = ReactAgent(tools=[sum_two_elements, multiply_two_elements, compute_log])"
   ]
  },
  {
   "cell_type": "code",
   "execution_count": 45,
   "metadata": {},
   "outputs": [
    {
     "name": "stdout",
     "output_type": "stream",
     "text": [
      "\u001b[35m\n",
      "Thought: I need to calculate the sum of 1234 and 5678, then multiply the result by 5, and finally compute the logarithm of this result. I'll start by summing 1234 and 5678.\n",
      "\u001b[32m\n",
      "Using Tool: sum_two_elements\n",
      "\u001b[32m\n",
      "Tool call dict: \n",
      "{'name': 'sum_two_elements', 'arguments': {'a': 1234, 'b': 5678}, 'id': 0}\n",
      "\u001b[32m\n",
      "Tool result: \n",
      "6912\n",
      "\u001b[34m\n",
      "Observations: {0: 6912}\n",
      "\u001b[35m\n",
      "Thought: I have the sum of 1234 and 5678, which is 6912. Now, I need to multiply this result by 5.\n",
      "\u001b[32m\n",
      "Using Tool: multiply_two_elements\n",
      "\u001b[32m\n",
      "Tool call dict: \n",
      "{'name': 'multiply_two_elements', 'arguments': {'a': 6912, 'b': 5}, 'id': 1}\n",
      "\u001b[32m\n",
      "Tool result: \n",
      "34560\n",
      "\u001b[34m\n",
      "Observations: {1: 34560}\n",
      "\u001b[35m\n",
      "Thought: I have the result of multiplying 6912 by 5, which is 34560. Now, I need to compute the logarithm of this result.\n",
      "\u001b[32m\n",
      "Using Tool: compute_log\n",
      "\u001b[32m\n",
      "Tool call dict: \n",
      "{'name': 'compute_log', 'arguments': {'x': 34560}, 'id': 2}\n",
      "\u001b[32m\n",
      "Tool result: \n",
      "10.450452222917992\n",
      "\u001b[34m\n",
      "Observations: {2: 10.450452222917992}\n"
     ]
    },
    {
     "data": {
      "text/plain": [
       "'The sum of 1234 and 5678 is 6912. Multiplying 6912 by 5 results in 34560. The logarithm of 34560 is approximately 10.45.'"
      ]
     },
     "execution_count": 45,
     "metadata": {},
     "output_type": "execute_result"
    }
   ],
   "source": [
    "agent.run(user_msg=\"I want to calculate the sum of 1234 and 5678 and multiply the result by 5. Then, I want to take the logarithm of this result\")\n"
   ]
  }
 ],
 "metadata": {
  "kernelspec": {
   "display_name": "Python 3",
   "language": "python",
   "name": "python3"
  },
  "language_info": {
   "codemirror_mode": {
    "name": "ipython",
    "version": 3
   },
   "file_extension": ".py",
   "mimetype": "text/x-python",
   "name": "python",
   "nbconvert_exporter": "python",
   "pygments_lexer": "ipython3",
   "version": "3.9.6"
  }
 },
 "nbformat": 4,
 "nbformat_minor": 2
}
